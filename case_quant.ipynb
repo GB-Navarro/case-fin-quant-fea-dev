{
 "cells": [
  {
   "cell_type": "markdown",
   "metadata": {},
   "source": [
    "# 📊 **1 - Estatística e Probabilidade Aplicadas a Finanças**"
   ]
  },
  {
   "cell_type": "markdown",
   "metadata": {},
   "source": [
    "## **1.1 - Estatística descritiva para finanças**"
   ]
  },
  {
   "cell_type": "code",
   "execution_count": null,
   "metadata": {},
   "outputs": [],
   "source": []
  },
  {
   "cell_type": "markdown",
   "metadata": {},
   "source": [
    "## **1.2 - Distribuições estatísticas comuns no mercado financeiro**"
   ]
  },
  {
   "cell_type": "code",
   "execution_count": null,
   "metadata": {},
   "outputs": [],
   "source": []
  },
  {
   "cell_type": "markdown",
   "metadata": {},
   "source": [
    "## **1.3 - Momentos estatísticos (média, variância, skewness, curtose)**"
   ]
  },
  {
   "cell_type": "code",
   "execution_count": null,
   "metadata": {},
   "outputs": [],
   "source": []
  },
  {
   "cell_type": "markdown",
   "metadata": {},
   "source": [
    "## **1.4 - Testes de hipóteses e intervalos de confiança**"
   ]
  },
  {
   "cell_type": "code",
   "execution_count": null,
   "metadata": {},
   "outputs": [],
   "source": []
  },
  {
   "cell_type": "markdown",
   "metadata": {
    "vscode": {
     "languageId": "plaintext"
    }
   },
   "source": [
    "## **1.5 - Métodos de estimação** "
   ]
  },
  {
   "cell_type": "markdown",
   "metadata": {
    "vscode": {
     "languageId": "plaintext"
    }
   },
   "source": [
    "### **A importância dos métodos de estimação**"
   ]
  },
  {
   "cell_type": "markdown",
   "metadata": {
    "vscode": {
     "languageId": "plaintext"
    }
   },
   "source": [
    "A estimativa de parâmetros é uma das bases fundamentais da estatística e da modelagem financeira. Em finanças quantitativas, compreender métodos de estimação é essencial para a análise de riscos, precificação de ativos, modelagem de séries temporais e construção de estratégias de investimento. Sem um entendimento sólido desses métodos, qualquer previsão ou inferência sobre o comportamento dos mercados pode ser imprecisa ou enviesada.\n",
    "\n",
    "**Por que estimar parâmetros é essencial?**\n",
    "Os modelos quantitativos utilizados no mercado financeiro, desde regressões simples até modelos complexos de volatilidade, dependem de parâmetros desconhecidos que devem ser estimados a partir dos dados. A precisão e robustez dessas estimativas influenciam diretamente a qualidade das decisões tomadas. Alguns exemplos incluem:\n",
    "\n",
    "-  Precificação de Ativos: No modelo de Black-Scholes para precificação de opções, a volatilidade do ativo subjacente precisa ser estimada corretamente para evitar distorções no preço teórico da opção.\n",
    "\n",
    "-  Modelagem de Séries Temporais: Modelos como ARIMA e GARCH exigem a estimação de coeficientes para prever retornos e volatilidades futuras.\n",
    "\n",
    "-  Gestão de Risco: A alocação eficiente de um portfólio usa a matriz de covariância entre ativos, que precisa ser estimada a partir de retornos históricos.\n",
    "\n",
    "-  Análise de Tendências e Fundamentos: Em modelos de machine learning para trading algorítmico, os parâmetros das distribuições probabilísticas dos retornos impactam diretamente as decisões estratégicas."
   ]
  },
  {
   "cell_type": "markdown",
   "metadata": {
    "vscode": {
     "languageId": "plaintext"
    }
   },
   "source": [
    "### **Método dos Momentos (MM)**"
   ]
  },
  {
   "cell_type": "code",
   "execution_count": null,
   "metadata": {},
   "outputs": [],
   "source": []
  },
  {
   "cell_type": "markdown",
   "metadata": {
    "vscode": {
     "languageId": "plaintext"
    }
   },
   "source": [
    "### **Máxima Verossimilhança (MLE)**"
   ]
  },
  {
   "cell_type": "code",
   "execution_count": null,
   "metadata": {},
   "outputs": [],
   "source": []
  },
  {
   "cell_type": "markdown",
   "metadata": {
    "vscode": {
     "languageId": "plaintext"
    }
   },
   "source": [
    "### **Mínimos Quadrados Ordinários (OLS)**"
   ]
  },
  {
   "cell_type": "markdown",
   "metadata": {},
   "source": [
    "Esse método encontra a reta ou a superfície que melhor se ajusta aos dados minimizando a soma dos erros ao quadrado. A ideia central é escolher os parâmetros do modelo para que as diferenças entre os valores observados e os valores previstos pelo modelo sejam, em média, as menores possíveis.\n",
    "\n",
    "Imagine que você quer prever a altura de uma criança a partir da idade. Você coleta dados de várias crianças e plota a altura (eixo $Y$) contra a idade (eixo $X$). Os pontos não formam uma linha perfeita, mas você quer encontrar a melhor reta que os representa.\n",
    "\n",
    "O que o OLS faz? Ele escolhe a reta que minimiza a soma dos quadrados das distâncias verticais entre os pontos observados e a reta prevista. Isso significa que ele busca a melhor aproximação global, tentando equilibrar os erros para que, no geral, eles sejam os menores possíveis."
   ]
  },
  {
   "cell_type": "code",
   "execution_count": null,
   "metadata": {},
   "outputs": [],
   "source": []
  },
  {
   "cell_type": "markdown",
   "metadata": {},
   "source": [
    "# 📈 **2 - Análise Quantitativa de Dados Financeiros**"
   ]
  },
  {
   "cell_type": "markdown",
   "metadata": {},
   "source": [
    "## **2.1 - Coleta e manipulação de dados financeiros**"
   ]
  },
  {
   "cell_type": "markdown",
   "metadata": {},
   "source": [
    "Vamos estudar como coletar os dados de ativos financeiros com o Python e suas bibliotecas\n",
    "\n",
    "## Passo a passo\n",
    "- **Coletar dados financeiros**: Utilizar yfinance para baixar informações históricas de um ativo.\n",
    "- **Manipular os dados**: Realizar transformações e limpeza com a biblioteca Pandas.\n",
    "- **Visualizar dados**: Criar gráficos que evidenciem a evolução dos preços ao longo do tempo.\n",
    "\n",
    "## Pré-Requisitos\n",
    "- **Python** instalado.\n",
    "- Bibliotecas necessárias: `yfinance`, `pandas` e `matplotlib` (instaláveis via pip).\n",
    "\n",
    "## Exemplo Prático em Python\n",
    "\n",
    "Queremos então coletar informações sobre o ticker da Apple, APPL, e criar um dataframe em pandas com os preços de fechamentos dos últimos 12 meses.\n",
    "```python\n",
    "import yfinance as yf\n",
    "import pandas as pd\n",
    "import matplotlib.pyplot as plt\n",
    "\n",
    "# Definindo o ticker do ativo (exemplo: AAPL para Apple)\n",
    "ticker = yf.Ticker(\"AAPL\")\n",
    "\n",
    "# Coletando dados históricos do ativo para os últimos 12 meses\n",
    "dados = ticker.history(period=\"1y\")\n",
    "\n",
    "# Exibindo as primeiras linhas dos dados coletados\n",
    "print(dados.head())\n",
    "\n",
    "# Garantindo que o índice seja do tipo datetime (geralmente já vem assim)\n",
    "dados.index = pd.to_datetime(dados.index)\n",
    "\n",
    "# Plotando o gráfico de preço de fechamento do ativo\n",
    "plt.figure(figsize=(10, 5))\n",
    "plt.plot(dados['Close'], label='Preço de Fechamento')\n",
    "plt.title(\"Evolução do Preço de Fechamento da AAPL - Último Ano\")\n",
    "plt.xlabel(\"Data\")\n",
    "plt.ylabel(\"Preço (USD)\")\n",
    "plt.legend()\n",
    "plt.grid(True)\n",
    "plt.show()"
   ]
  },
  {
   "cell_type": "markdown",
   "metadata": {},
   "source": [
    "## **2.2 - Construção de indicadores técnicos**"
   ]
  },
  {
   "cell_type": "markdown",
   "metadata": {},
   "source": [
    "### *Indicadores*"
   ]
  },
  {
   "cell_type": "markdown",
   "metadata": {},
   "source": [
    "Indicadores são fórmulas matemáticas aplicadas aos dados de mercado para gerar sinais que auxiliam na interpretação do comportamento de um ativo.\n",
    "\n",
    "Podem ser representados por gráficos, linhas, osciladores, etc., facilitando a visualização e análise das tendências e padrões.\n",
    "\n",
    "Ou seja, indicadores são representações gráficas de uma fórmula matemática que auxiliam na tomada de decisões.\n",
    "\n",
    "Existem vários tipos de indicadores, que no geral são agrupados como:\n",
    "\n",
    "- Tendência\n",
    "- Momentum\n",
    "- Volatilidade\n",
    "- Volume\n",
    "\n",
    "Também podemos criar indicadores baseados em dados alternativos, que ao invés de utilizarem cotações, baseiam-se em outras informações, como postagens em redes sociais (sentimento do mercado), relatórios financeiros (dados fundamentalistas), imagens de satélite (produção em áreas agrícolas), etc. Mas isso não será tratado neste tópico."
   ]
  },
  {
   "cell_type": "markdown",
   "metadata": {
    "vscode": {
     "languageId": "plaintext"
    }
   },
   "source": [
    "### **Indicadores de tendência**"
   ]
  },
  {
   "cell_type": "markdown",
   "metadata": {},
   "source": [
    "Buscam identificar e acompanhar a direção predominante do movimento dos preços de um ativo financeiro ao longo do tempo.\n",
    "\n",
    "Ajudam os investidores a entender se o mercado está em uma tendência de alta (bullish), baixa (bearish) ou lateral (sem tendência definida).\n",
    "\n",
    "No geral, funcionam suavizando flutuações de curto prazo nos preços, destacando a direção subjacente do mercado.\n",
    "\n",
    "Alguns indicadores são capazes de identificar o início e o final de uma tendência.\n",
    "\n",
    "Outros são capazes de identificar a força da tendência.\n",
    "\n",
    "Podem ser utilizados para definir pontos de entrada e saída em operações, melhorando a gestão do risco.\n",
    "\n",
    "Múltiplas tendências podem existir em diferentes janelas de tempo (timeframes), como hora, dia, semana e mês da cotação.\n",
    "\n",
    "Exemplos de indicadores de tendência:\n",
    "\n",
    "- Médias móveis\n",
    "- Parabolic SAR\n",
    "- ADX (Average Directional Index)\n",
    "- DPO (Detrended Price Oscillator)"
   ]
  },
  {
   "cell_type": "markdown",
   "metadata": {
    "vscode": {
     "languageId": "plaintext"
    }
   },
   "source": [
    "#### **Médias móveis (SMA, EMA, VWAP)**"
   ]
  },
  {
   "cell_type": "markdown",
   "metadata": {},
   "source": [
    "As médias móveis são ferramentas estatísticas fundamentais na análise técnica, utilizadas para suavizar a volatilidade dos preços e evidenciar tendências. Neste módulo, abordaremos três tipos principais:\n",
    "\n",
    "- **SMA (Simple Moving Average)**: Média móvel simples, que calcula a média aritmética dos preços ao longo de um período definido.\n",
    "- **EMA (Exponential Moving Average)**: Média móvel exponencial, que atribui maior peso aos preços mais recentes, tornando o indicador mais sensível às mudanças.\n",
    "- **VWAP (Volume Weighted Average Price)**: Média ponderada pelo volume, que integra tanto os preços quanto os volumes negociados, refletindo o preço médio efetivo durante um período.\n",
    "\n",
    "##### Explicação Didática\n",
    "\n",
    "- **SMA:**  \n",
    "  A SMA é calculada somando os preços de fechamento de um determinado número de períodos e dividindo esse total pelo número de períodos. Por exemplo, uma SMA de 10 dias é obtida pela soma dos preços de fechamento dos últimos 10 dias dividida por 10. Essa média é útil para identificar a tendência geral do preço, porém, por tratar todos os períodos de igual importância, pode responder lentamente a mudanças bruscas.\n",
    "\n",
    "- **EMA:**  \n",
    "  A EMA utiliza um fator de ponderação que confere maior relevância aos preços mais recentes. A fórmula recursiva para a EMA incorpora um multiplicador, que depende do número de períodos, para ajustar o peso dos dados passados. Isso torna a EMA mais ágil na identificação de mudanças de tendência em comparação à SMA.\n",
    "\n",
    "- **VWAP:**  \n",
    "  O VWAP é calculado dividindo o valor total negociado (soma de preço x volume) pelo volume total acumulado durante o período. Esse indicador é amplamente utilizado em negociações intradiárias, pois oferece uma visão mais precisa do preço médio ponderado pelo volume, auxiliando traders na identificação de pontos de suporte e resistência.\n",
    "\n",
    "##### Recursos Adicionais\n",
    "\n",
    "- **Pandas:** Explore as funções de janela móvel (rolling) para calcular médias de forma eficiente.  \n",
    "- **TA-Lib:** Considere utilizar essa biblioteca para implementar indicadores técnicos prontos e realizar comparações.\n",
    "- **Estudos de Caso:** Pesquise aplicações práticas de médias móveis em estratégias de trading e análise de risco.\n",
    "\n",
    "Mais informações sobre médias móveis: \n",
    "- https://www.infomoney.com.br/guias/medias-moveis-analise-grafica/\n",
    "- [Artigo da UFRGS sobre implementação de medias moveis](https://lume.ufrgs.br/bitstream/handle/10183/78323/000892034.pdf?sequence=1)"
   ]
  },
  {
   "cell_type": "markdown",
   "metadata": {},
   "source": [
    "#### **Atividades**"
   ]
  },
  {
   "cell_type": "markdown",
   "metadata": {},
   "source": [
    "De preferência utilize a mesma ação e calcule-a em uma celúla separada em prol do clean code"
   ]
  },
  {
   "cell_type": "code",
   "execution_count": null,
   "metadata": {},
   "outputs": [],
   "source": [
    "### Seu codigo de coleta dos dados"
   ]
  },
  {
   "cell_type": "markdown",
   "metadata": {},
   "source": [
    "1. **Cálculo da SMA**  \n",
    "   - **Objetivo:** Desenvolver uma função que calcule a SMA para um conjunto de dados históricos de preços.  \n",
    "   - **Atividade:**  \n",
    "     - Implemente uma função em Python que receba uma série de preços e um número de períodos, e retorne a SMA correspondente.\n",
    "     - Teste sua função com diferentes janelas (ex.: 5, 10 e 20 dias) e compare os resultados."
   ]
  },
  {
   "cell_type": "code",
   "execution_count": null,
   "metadata": {},
   "outputs": [],
   "source": []
  },
  {
   "cell_type": "markdown",
   "metadata": {},
   "source": [
    "2. **Implementação da EMA**  \n",
    "   - **Objetivo:** Entender e aplicar o cálculo da EMA.  \n",
    "   - **Atividade:**  \n",
    "     - Implemente uma função que calcule a EMA usando a fórmula recursiva.\n",
    "     - Pondere sobre como a EMA reage a variações de preço mais recentes, altere a janela para checar as mudanças ocorridas."
   ]
  },
  {
   "cell_type": "code",
   "execution_count": null,
   "metadata": {},
   "outputs": [],
   "source": []
  },
  {
   "cell_type": "markdown",
   "metadata": {},
   "source": [
    "3. **Cálculo do VWAP**  \n",
    "   - **Objetivo:** Integrar volume e preço para calcular o VWAP de uma sessão de negociação.  \n",
    "   - **Atividade:**  \n",
    "     - Plote o VWAP juntamente com o preço de fechamento e analise como ele pode sinalizar possíveis pontos de entrada ou saída."
   ]
  },
  {
   "cell_type": "code",
   "execution_count": null,
   "metadata": {},
   "outputs": [],
   "source": []
  },
  {
   "cell_type": "markdown",
   "metadata": {},
   "source": [
    "4. **Análise Comparativa**  \n",
    "   - **Objetivo:** Comparar a eficácia dos três indicadores em diferentes cenários de mercado.  \n",
    "   - **Atividade:**  \n",
    "     - Crie um gráfico que exiba a SMA, EMA e VWAP para o mesmo período de tempo.\n",
    "     - Discuta as diferenças entre os indicadores e em que situações cada um pode ser mais vantajoso para a tomada de decisão."
   ]
  },
  {
   "cell_type": "code",
   "execution_count": null,
   "metadata": {},
   "outputs": [],
   "source": []
  },
  {
   "cell_type": "markdown",
   "metadata": {},
   "source": [
    "#### **Parabolic SAR**"
   ]
  },
  {
   "cell_type": "markdown",
   "metadata": {},
   "source": [
    "\n",
    "<br>\n",
    "<center>\n",
    "  <img src=\"https://commodity.com/wp-content/uploads/technical-analysis/ParabolicSARgoldZG.gif\" width=\"550px\">\n",
    "\n",
    "  <strong>Fonte:</strong>\n",
    "  `https://commodity.com/technical-analysis/parabolic-sar/`\n",
    "</center>\n",
    "<br>\n",
    "\n",
    "#### Cálculo do Parabolic SAR\n",
    "\n",
    "O Parabolic SAR (Stop and Reverse) é um indicador técnico desenvolvido por Welles Wilder, utilizado para identificar pontos de reversão de tendência e determinar níveis de suporte e resistência. Em sua representação gráfica, os pontos aparecem abaixo dos preços durante uma tendência de alta e acima dos preços durante uma tendência de baixa.\n",
    "\n",
    "##### Componentes Principais\n",
    "- **SAR (Stop and Reverse):** Valor do indicador em cada período.\n",
    "- **EP (Extreme Point):**  \n",
    "  - Em uma tendência de alta: o maior preço registrado durante a tendência.  \n",
    "  - Em uma tendência de baixa: o menor preço registrado durante a tendência.\n",
    "- **AF (Acceleration Factor):**  \n",
    "  - Um fator que inicia com um valor base (geralmente 0,02) e é incrementado (por exemplo, +0,02) sempre que o EP é atualizado, até atingir um valor máximo (comummente 0,20).  \n",
    "  - Esse fator torna o indicador mais sensível à medida que a tendência se fortalece.\n",
    "\n",
    "##### Fórmulas de Cálculo\n",
    "\n",
    "- **Para uma tendência de alta:**  \n",
    "  $$SAR_{i+1} = SAR_i + AF \\times (EP - SAR_i)$$  \n",
    "  Nesta fórmula, o novo valor do SAR é calculado ajustando o valor anterior com base na distância até o EP e no fator de aceleração, aproximando-se do EP conforme o preço sobe.\n",
    "\n",
    "- **Para uma tendência de baixa:**  \n",
    "  $$SAR_{i+1} = SAR_i - AF \\times (SAR_i - EP)$$  \n",
    "  Aqui, o SAR é ajustado para baixo, aproximando-se do EP (neste caso, o menor preço da tendência) conforme o preço cai.\n",
    "\n",
    "##### Mecanismo de Funcionamento\n",
    "\n",
    "1. **Início da Tendência:**  \n",
    "   Define-se o SAR inicial com base no preço do período anterior e estabelece-se o EP (o maior preço para uma tendência de alta ou o menor preço para uma tendência de baixa).\n",
    "\n",
    "2. **Atualização do EP:**  \n",
    "   - Em uma tendência de alta, sempre que um novo máximo é atingido, o EP é atualizado para esse valor.\n",
    "   - Em uma tendência de baixa, o EP é atualizado sempre que ocorre um novo mínimo.\n",
    "\n",
    "3. **Ajuste do AF:**  \n",
    "   Cada atualização do EP resulta em um incremento do AF (até o valor máximo estipulado), o que torna o indicador mais sensível às mudanças recentes de preço.\n",
    "\n",
    "4. **Cálculo Recursivo:**  \n",
    "   Para cada novo período, o SAR é recalculado utilizando a fórmula apropriada para a direção da tendência, permitindo um ajuste dinâmico do indicador.\n",
    "\n",
    "5. **Sinal de Reversão:**  \n",
    "   Se o preço ultrapassar o SAR calculado (ou seja, cair abaixo do SAR em uma tendência de alta ou subir acima do SAR em uma tendência de baixa), isso indica uma potencial reversão de tendência. Nesse momento, o SAR é recalculado e a direção da tendência é invertida.\n",
    "\n",
    "Em resumo, o Parabolic SAR utiliza um mecanismo recursivo que combina ajustes dinâmicos (através do AF) e a atualização contínua do EP para oferecer sinais visuais que ajudam a identificar mudanças na direção do mercado.\n",
    "\n",
    "- **Interpretação:**\n",
    "\n",
    "  - Pontos abaixo do preço sugerem tendência de alta.\n",
    "\n",
    "  - Pontos acima do preço sugerem tendência de baixa.\n",
    "\n",
    "  - **Força da Tendência:** A distância entre os pontos e o preço pode indicar a força da tendência."
   ]
  },
  {
   "cell_type": "markdown",
   "metadata": {},
   "source": [
    "Na biblioteca ta do python já existem diversos indicadores implementados, inclusive o parabolic SAR e as médias móveis, então não necessitamos nos dar o trabalho de implementá-los todas as vezes que forem utilizados.\n",
    "- [Documentação da TA-lib;](https://ta-lib.github.io/ta-lib-python/doc_index.html)\n",
    "- [Para instalar utilize este link e faça o seu passo-a-passo;](https://github.com/TA-Lib/ta-lib-python)\n",
    "- Recomenda-se que seja lida a documentação."
   ]
  },
  {
   "cell_type": "code",
   "execution_count": null,
   "metadata": {},
   "outputs": [],
   "source": [
    "# Exemplo de uso da biblioteca ta(lembre-se de importa-la e baixa-la no seu codigo)\n",
    "indicator = ta.trend.PSARIndicator(\n",
    "    high=df['High'],\n",
    "    low=df['Low'],\n",
    "    close=df['Close'],\n",
    "    # Ajuste do fator de aceleração\n",
    "    step=0.01,\n",
    ")"
   ]
  },
  {
   "cell_type": "markdown",
   "metadata": {
    "vscode": {
     "languageId": "plaintext"
    }
   },
   "source": [
    "#### **Indicador de tendência de força relativa (ADX)**"
   ]
  },
  {
   "cell_type": "markdown",
   "metadata": {},
   "source": [
    "#### ADX (Indicador de Tendência Relativa)\n",
    "\n",
    "O ADX (Average Directional Index) é um indicador técnico desenvolvido por Welles Wilder que mede a força de uma tendência, independentemente da sua direção (alta ou baixa). Diferente de outros indicadores que apontam a direção do movimento, o ADX foca exclusivamente na intensidade da tendência. Ele é frequentemente utilizado em conjunto com os indicadores de movimento direcional positivo (+DI) e negativo (-DI), que auxiliam na identificação da direção predominante do mercado.\n",
    "\n",
    "##### Componentes e Conceitos\n",
    "\n",
    "- **True Range (TR):** Mede a volatilidade diária e é calculado como o máximo entre:\n",
    "  - A diferença entre a máxima e a mínima do dia.\n",
    "  - A diferença absoluta entre a máxima do dia e o fechamento do dia anterior.\n",
    "  - A diferença absoluta entre a mínima do dia e o fechamento do dia anterior.\n",
    "  \n",
    "  $$ TR = \\max\\{(High - Low),\\; |High - Close_{prev}|,\\; |Low - Close_{prev}|\\} $$\n",
    "\n",
    "- **Directional Movement (+DM e -DM):**  \n",
    "  - **+DM (Movimento Direcional Positivo):** Diferença entre a máxima atual e a máxima do período anterior, se for maior que a variação negativa e maior que zero.\n",
    "  - **-DM (Movimento Direcional Negativo):** Diferença entre a mínima do período anterior e a mínima atual, se for maior que a variação positiva e maior que zero.\n",
    "\n",
    "- **Smoothed Values:**  \n",
    "  Para reduzir ruídos, os valores de TR, +DM e -DM são suavizados, geralmente utilizando uma média móvel exponencial ou uma média móvel simples ao longo de 14 períodos.\n",
    "\n",
    "##### Cálculo dos Indicadores\n",
    "\n",
    "1. **Cálculo dos Índices Direcionais (+DI e -DI):**\n",
    "\n",
    "   Após suavizar o TR, +DM e -DM, calcula-se:\n",
    "   \n",
    "   $$ +DI = 100 \\times \\frac{\\text{Smoothed } +DM}{\\text{Smoothed TR}} $$\n",
    "   \n",
    "   $$ -DI = 100 \\times \\frac{\\text{Smoothed } -DM}{\\text{Smoothed TR}} $$\n",
    "\n",
    "2. **Cálculo do DX (Directional Index):**\n",
    "\n",
    "   O DX é uma medida da diferença relativa entre os dois DI’s:\n",
    "   \n",
    "   $$ DX = 100 \\times \\frac{|+DI - -DI|}{+DI + -DI} $$\n",
    "\n",
    "3. **Cálculo do ADX:**\n",
    "\n",
    "   O ADX é a média móvel dos valores do DX, normalmente calculada em 14 períodos:\n",
    "   \n",
    "   $$ ADX = \\text{Média Móvel de } DX $$\n",
    "   \n",
    "   Essa média suaviza as variações diárias do DX, fornecendo uma indicação mais estável da força da tendência.\n",
    "\n",
    "##### Interpretação\n",
    "\n",
    "- **ADX Alto (por exemplo, acima de 25):** Indica que o mercado está em uma tendência forte, seja de alta ou de baixa.\n",
    "- **ADX Baixo (por exemplo, abaixo de 20):** Sugere que o mercado está em uma fase de consolidação ou sem uma tendência definida.\n"
   ]
  },
  {
   "cell_type": "markdown",
   "metadata": {},
   "source": [
    "Abaixo vocês podem observar como a biblioteca TA-Lib nos será útil ao longo deste curso:"
   ]
  },
  {
   "cell_type": "code",
   "execution_count": null,
   "metadata": {},
   "outputs": [],
   "source": [
    "### Cocidog sem TA-Lib\n",
    "\n",
    "import yfinance as yf\n",
    "import pandas as pd\n",
    "import numpy as np\n",
    "import matplotlib.pyplot as plt\n",
    "\n",
    "# Definir o ticker de uma ação brasileira (ex: PETR4 - Petrobras)\n",
    "ticker = 'PETR4.SA'\n",
    "# Baixar dados históricos do último ano\n",
    "data = yf.download(ticker, period='1y')\n",
    "\n",
    "# Cálculo do True Range (TR)\n",
    "data['H-L'] = data['High'] - data['Low']\n",
    "data['H-PC'] = abs(data['High'] - data['Close'].shift(1))\n",
    "data['L-PC'] = abs(data['Low'] - data['Close'].shift(1))\n",
    "data['TR'] = data[['H-L', 'H-PC', 'L-PC']].max(axis=1)\n",
    "\n",
    "# Cálculo do Directional Movement\n",
    "data['up_move'] = data['High'] - data['High'].shift(1)\n",
    "data['down_move'] = data['Low'].shift(1) - data['Low']\n",
    "\n",
    "# +DM: Movimento direcional positivo\n",
    "data['+DM'] = np.where((data['up_move'] > data['down_move']) & (data['up_move'] > 0), data['up_move'], 0)\n",
    "# -DM: Movimento direcional negativo\n",
    "data['-DM'] = np.where((data['down_move'] > data['up_move']) & (data['down_move'] > 0), data['down_move'], 0)\n",
    "\n",
    "# Período para o cálculo (geralmente 14 dias)\n",
    "period = 14\n",
    "\n",
    "# Suavização dos valores utilizando o método de Wilder (que pode ser aproximado pelo EWMA com alpha=1/period)\n",
    "data['TR_smoothed'] = data['TR'].ewm(alpha=1/period, adjust=False).mean()\n",
    "data['+DM_smoothed'] = data['+DM'].ewm(alpha=1/period, adjust=False).mean()\n",
    "data['-DM_smoothed'] = data['-DM'].ewm(alpha=1/period, adjust=False).mean()\n",
    "\n",
    "# Cálculo dos indicadores +DI e -DI\n",
    "data['+DI'] = 100 * (data['+DM_smoothed'] / data['TR_smoothed'])\n",
    "data['-DI'] = 100 * (data['-DM_smoothed'] / data['TR_smoothed'])\n",
    "\n",
    "# Cálculo do DX (índice direcional)\n",
    "data['DX'] = 100 * abs(data['+DI'] - data['-DI']) / (data['+DI'] + data['-DI'])\n",
    "\n",
    "# Cálculo do ADX: média suavizada do DX\n",
    "data['ADX'] = data['DX'].ewm(alpha=1/period, adjust=False).mean()\n",
    "\n",
    "# Remover valores nulos gerados pelo shift e cálculos iniciais\n",
    "data = data.dropna()\n",
    "\n",
    "# Plotando o gráfico do preço de fechamento e do ADX\n",
    "plt.figure(figsize=(14,8))\n",
    "\n",
    "# Gráfico 1: Preço de Fechamento\n",
    "plt.subplot(2,1,1)\n",
    "plt.plot(data.index, data['Close'], label='Preço de Fechamento', color='blue')\n",
    "plt.title(f\"{ticker} - Preço e Indicador ADX\")\n",
    "plt.ylabel(\"Preço (BRL)\")\n",
    "plt.legend()\n",
    "plt.grid(True)\n",
    "\n",
    "# Gráfico 2: ADX\n",
    "plt.subplot(2,1,2)\n",
    "plt.plot(data.index, data['ADX'], label='ADX', color='magenta')\n",
    "plt.axhline(25, color='grey', linestyle='--', label='Nível 25')\n",
    "plt.title(\"Average Directional Index (ADX)\")\n",
    "plt.xlabel(\"Data\")\n",
    "plt.ylabel(\"ADX\")\n",
    "plt.legend()\n",
    "plt.grid(True)\n",
    "\n",
    "plt.tight_layout()\n",
    "plt.show()\n"
   ]
  },
  {
   "cell_type": "markdown",
   "metadata": {},
   "source": [
    "Agora vamos diminuir bastante a sintaxe carregada do código utilizando a bilioteca TA:"
   ]
  },
  {
   "cell_type": "code",
   "execution_count": null,
   "metadata": {},
   "outputs": [],
   "source": [
    "import talib\n",
    "\n",
    "# Definir o ticker de uma ação brasileira (ex: PETR4 - Petrobras)\n",
    "ticker = 'PETR4.SA'\n",
    "# Baixar dados históricos do último ano\n",
    "data = yf.download(ticker, period='1y')\n",
    "\n",
    "# Remover possíveis valores nulos\n",
    "data = data.dropna()\n",
    "\n",
    "# Utilizando TA-lib para calcular o ADX com período de 14 dias\n",
    "data['ADX'] = talib.ADX(data['High'], data['Low'], data['Close'], timeperiod=14)\n",
    "\n",
    "# Plotando o gráfico do preço de fechamento e do ADX\n",
    "plt.figure(figsize=(14,8))\n",
    "\n",
    "# Gráfico 1: Preço de Fechamento\n",
    "plt.subplot(2,1,1)\n",
    "plt.plot(data.index, data['Close'], label='Preço de Fechamento', color='blue')\n",
    "plt.title(f\"{ticker} - Preço e Indicador ADX\")\n",
    "plt.ylabel(\"Preço (BRL)\")\n",
    "plt.legend()\n",
    "plt.grid(True)\n",
    "\n",
    "# Gráfico 2: ADX\n",
    "plt.subplot(2,1,2)\n",
    "plt.plot(data.index, data['ADX'], label='ADX', color='magenta')\n",
    "plt.axhline(25, color='grey', linestyle='--', label='Nível 25')\n",
    "plt.title(\"Average Directional Index (ADX)\")\n",
    "plt.xlabel(\"Data\")\n",
    "plt.ylabel(\"ADX\")\n",
    "plt.legend()\n",
    "plt.grid(True)\n",
    "\n",
    "plt.tight_layout()\n",
    "plt.show()\n"
   ]
  },
  {
   "cell_type": "markdown",
   "metadata": {},
   "source": [
    "#### **DPO(Detrended Price Oscillator)**"
   ]
  },
  {
   "cell_type": "markdown",
   "metadata": {
    "vscode": {
     "languageId": "plaintext"
    }
   },
   "source": [
    "### **Indicadores de momentum**"
   ]
  },
  {
   "cell_type": "markdown",
   "metadata": {
    "vscode": {
     "languageId": "plaintext"
    }
   },
   "source": [
    "#### **Índice de Força Relativa (RSI)**"
   ]
  },
  {
   "cell_type": "code",
   "execution_count": null,
   "metadata": {},
   "outputs": [],
   "source": []
  },
  {
   "cell_type": "markdown",
   "metadata": {
    "vscode": {
     "languageId": "plaintext"
    }
   },
   "source": [
    "#### **Oscilador estocástico**"
   ]
  },
  {
   "cell_type": "code",
   "execution_count": null,
   "metadata": {},
   "outputs": [],
   "source": []
  },
  {
   "cell_type": "markdown",
   "metadata": {
    "vscode": {
     "languageId": "plaintext"
    }
   },
   "source": [
    "### **Indicadores de volatilidade**"
   ]
  },
  {
   "cell_type": "markdown",
   "metadata": {
    "vscode": {
     "languageId": "plaintext"
    }
   },
   "source": [
    "#### **Bandas de Bollinger**"
   ]
  },
  {
   "cell_type": "code",
   "execution_count": null,
   "metadata": {},
   "outputs": [],
   "source": []
  },
  {
   "cell_type": "markdown",
   "metadata": {
    "vscode": {
     "languageId": "plaintext"
    }
   },
   "source": [
    "#### **ATR (Average True Range)**"
   ]
  },
  {
   "cell_type": "code",
   "execution_count": null,
   "metadata": {},
   "outputs": [],
   "source": []
  },
  {
   "cell_type": "markdown",
   "metadata": {
    "vscode": {
     "languageId": "plaintext"
    }
   },
   "source": [
    "### **Indicadores de volume**"
   ]
  },
  {
   "cell_type": "markdown",
   "metadata": {
    "vscode": {
     "languageId": "plaintext"
    }
   },
   "source": [
    "#### **OBV (On-Balance Volume)**"
   ]
  },
  {
   "cell_type": "code",
   "execution_count": null,
   "metadata": {},
   "outputs": [],
   "source": []
  },
  {
   "cell_type": "markdown",
   "metadata": {
    "vscode": {
     "languageId": "plaintext"
    }
   },
   "source": [
    "#### **Acumulação/Distribuição**"
   ]
  },
  {
   "cell_type": "code",
   "execution_count": null,
   "metadata": {},
   "outputs": [],
   "source": []
  },
  {
   "cell_type": "markdown",
   "metadata": {
    "vscode": {
     "languageId": "plaintext"
    }
   },
   "source": [
    "## **2.3 - Construção de indicadores fundamentalistas**"
   ]
  },
  {
   "cell_type": "markdown",
   "metadata": {
    "vscode": {
     "languageId": "plaintext"
    }
   },
   "source": [
    "### **Valuation**"
   ]
  },
  {
   "cell_type": "markdown",
   "metadata": {
    "vscode": {
     "languageId": "plaintext"
    }
   },
   "source": [
    "#### **P/L (Preço/Lucro), P/VPA (Preço/Valor Patrimonial)**"
   ]
  },
  {
   "cell_type": "code",
   "execution_count": null,
   "metadata": {},
   "outputs": [],
   "source": []
  },
  {
   "cell_type": "markdown",
   "metadata": {
    "vscode": {
     "languageId": "plaintext"
    }
   },
   "source": [
    "#### **Dividend Yield, EV/EBITDA**"
   ]
  },
  {
   "cell_type": "code",
   "execution_count": null,
   "metadata": {},
   "outputs": [],
   "source": []
  },
  {
   "cell_type": "markdown",
   "metadata": {
    "vscode": {
     "languageId": "plaintext"
    }
   },
   "source": [
    "### **Qualidade e rentabilidade**"
   ]
  },
  {
   "cell_type": "markdown",
   "metadata": {
    "vscode": {
     "languageId": "plaintext"
    }
   },
   "source": [
    "#### **ROE (Retorno sobre Patrimônio)**"
   ]
  },
  {
   "cell_type": "code",
   "execution_count": null,
   "metadata": {},
   "outputs": [],
   "source": []
  },
  {
   "cell_type": "markdown",
   "metadata": {
    "vscode": {
     "languageId": "plaintext"
    }
   },
   "source": [
    "#### **ROA (Retorno sobre Ativos)**"
   ]
  },
  {
   "cell_type": "code",
   "execution_count": null,
   "metadata": {},
   "outputs": [],
   "source": []
  },
  {
   "cell_type": "markdown",
   "metadata": {
    "vscode": {
     "languageId": "plaintext"
    }
   },
   "source": [
    "#### **Margem líquida e operacional**"
   ]
  },
  {
   "cell_type": "code",
   "execution_count": null,
   "metadata": {},
   "outputs": [],
   "source": []
  },
  {
   "cell_type": "markdown",
   "metadata": {
    "vscode": {
     "languageId": "plaintext"
    }
   },
   "source": [
    "### **Saúde financeira e endividamento**"
   ]
  },
  {
   "cell_type": "markdown",
   "metadata": {
    "vscode": {
     "languageId": "plaintext"
    }
   },
   "source": [
    "#### **Dívida/EBITDA**"
   ]
  },
  {
   "cell_type": "code",
   "execution_count": null,
   "metadata": {},
   "outputs": [],
   "source": []
  },
  {
   "cell_type": "markdown",
   "metadata": {
    "vscode": {
     "languageId": "plaintext"
    }
   },
   "source": [
    "#### **Índice de cobertura de juros**"
   ]
  },
  {
   "cell_type": "code",
   "execution_count": null,
   "metadata": {},
   "outputs": [],
   "source": []
  },
  {
   "cell_type": "markdown",
   "metadata": {
    "vscode": {
     "languageId": "plaintext"
    }
   },
   "source": [
    "#### **Liquidez corrente e seca**"
   ]
  },
  {
   "cell_type": "code",
   "execution_count": null,
   "metadata": {},
   "outputs": [],
   "source": []
  },
  {
   "cell_type": "markdown",
   "metadata": {
    "vscode": {
     "languageId": "plaintext"
    }
   },
   "source": [
    "## **2.4 - Análise exploratória de dados financeiros**"
   ]
  },
  {
   "cell_type": "markdown",
   "metadata": {
    "vscode": {
     "languageId": "plaintext"
    }
   },
   "source": [
    "### **Visualização de séries temporais**"
   ]
  },
  {
   "cell_type": "code",
   "execution_count": null,
   "metadata": {},
   "outputs": [],
   "source": []
  },
  {
   "cell_type": "markdown",
   "metadata": {
    "vscode": {
     "languageId": "plaintext"
    }
   },
   "source": [
    "### **Histogramas de retornos e caudas pesadas**"
   ]
  },
  {
   "cell_type": "code",
   "execution_count": null,
   "metadata": {},
   "outputs": [],
   "source": []
  },
  {
   "cell_type": "markdown",
   "metadata": {},
   "source": [
    "# 📉 **3 - Séries Temporais em Finanças**"
   ]
  },
  {
   "cell_type": "markdown",
   "metadata": {},
   "source": [
    "## **3.1 - Definições importantes**"
   ]
  },
  {
   "cell_type": "markdown",
   "metadata": {},
   "source": [
    "**Abaixo serão apresentadas definições tanto intuitivas quanto formais. É fundamental compreender todas as definições intuitivas neste momento, pois elas ajudam a construir uma base sólida para o entendimento dos conceitos. No entanto, nem todas as definições formais precisam ser totalmente assimiladas agora. Com o tempo, à medida que a complexidade dos temas aumenta, dominar as definições formais será extremamente valioso, pois elas oferecem rigor matemático e precisão, permitindo uma análise mais profunda e fundamentada dos temas.**"
   ]
  },
  {
   "cell_type": "markdown",
   "metadata": {},
   "source": [
    "*As quatro primeiras definições abaixo podem ser \"puladas\" caso o aluno já esteja familiarizado com os conceitos fundamentais da Teoria das Probabilidades.*"
   ]
  },
  {
   "cell_type": "markdown",
   "metadata": {},
   "source": [
    "### **Espaços de Probabilidade**"
   ]
  },
  {
   "cell_type": "markdown",
   "metadata": {},
   "source": [
    "Imagine que queremos modelar um fenômeno incerto, como o preço de uma ação amanhã. Não sabemos exatamente qual será esse preço, mas podemos listar todos os possíveis valores que ele pode assumir e atribuir probabilidades a cada um deles. **Para descrever isso matematicamente, usamos o conceito de espaço de probabilidade, que fornece a base formal para lidar com fenômenos aleatórios.**\n",
    "\n",
    "Podemos entender essa ideia com um exemplo mais simples: imagine que você vai apostar no resultado de um dado. Antes de começar, você precisa entender quais são os possíveis resultados, quais deles fazem sentido analisar e como atribuir probabilidades a cada um. O espaço de probabilidade é justamente a estrutura matemática que organiza essas ideias.\n",
    "\n",
    "A estrutura fundamental desse espaço consiste em uma tripla $(\\Omega, \\mathcal{F}, P)$, que podemos entender da seguinte forma:\n",
    "\n",
    "1. **Espaço amostral $(\\Omega)$ -** **Representa todos os resultados possíveis.** No caso do dado, $\\Omega = \\{1,2,3,4,5,6\\}$, pois esses são os únicos números que podem sair. No caso do preço de uma ação, $\\Omega$ pode ser o conjunto de todos os valores possíveis que o preço pode assumir.\n",
    "\n",
    "2. **Conjunto de Fenômenos mensuráveis $(\\mathcal{F})$ -** **São os grupos de resultados sobre os quais conseguimos falar em termos de probabilidade.** Por exemplo, em um dado comum, podemos analisar a chance de sair um número par $\\{2,4,6\\}$, mas não faria sentido atribuir probabilidade a um fenômeno \"estranho\", como \"sair um número azul\".\n",
    "\n",
    "3. **Medida de Probabilidade $(P)$:** **Diz qual a chance de cada fenômeno mensurável ocorrer.** Se o dado for justo, cada número tem $\\frac{1}{6}$ de probabilidade, e a chance de sair um número par é $\\frac{3}{6}$.\n",
    "\n",
    "Essa estrutura é importante porque sem ela não conseguiríamos falar corretamente sobre incerteza. No dia a dia, sempre lidamos com fenômenos aleatórios, como o tempo amanhã, o trânsito na cidade ou o desempenho de um time de futebol. O espaço de probabilidade nos dá uma maneira organizada de pensar sobre esses cenários e tomar decisões baseadas em probabilidades. "
   ]
  },
  {
   "cell_type": "markdown",
   "metadata": {},
   "source": [
    "#### **Definição formal**"
   ]
  },
  {
   "cell_type": "markdown",
   "metadata": {},
   "source": [
    "1. **$\\Omega$ (espaço amostral):** É o **conjunto** de todos os possíveis resultados de um experimento aleatório.\n",
    "  \n",
    "   - Exemplo $1$: Se estivermos analisando o preço de uma ação amanhã, $\\Omega$ pode ser o conjunto de todos os preços possíveis que essa ação pode ter.\n",
    "  \n",
    "   - Exemplo $2$: Se estivermos lidando com o lançamento de um dado, $\\Omega = \\{1,2,3,4,5,6\\}$\n",
    "  \n",
    "2. **$\\mathcal{F}$ (sigma-álgebra):** É um **conjunto de subconjuntos de $\\Omega$**, que determina quais subconjuntos de $\\Omega$ podem ter uma medida de probabilidade bem definida.\n",
    "\n",
    "   - Exemplo: No caso do dado, $\\mathcal{F}$ pode conter subconjuntos como $A = \\{2,4,6\\}$ *(número par)* e $B = \\{1,3,5\\}$ *(número ímpar)*\n",
    "  \n",
    "   - Formalmente, $F$ deve satisfazer certas propriedades, como conter $\\Omega$ e ser fechada para complementação e união contável.\n",
    "\n",
    "   - **A sigma-álgebra $\\mathcal{F}$ é essencial para garantir que apenas subconjuntos de $\\Omega$ bem definidos recebam probabilidades, assegurando consistência matemática. Sem $\\mathcal{F}$, poderíamos ter subconjuntos de $\\Omega$ para os quais não conseguiríamos atribuir probabilidades de forma coerente, tornando o modelo probabilístico inválido.**\n",
    "   \n",
    "   - **Para os propósitos deste curso, não é necessário compreender todos os detalhes formais da sigma-álgebra. Basta pensar nela como um mecanismo que garante que as probabilidades calculadas sempre façam sentido.**\n",
    "  \n",
    "3. **$P$ (medida de probabilidade):** **É uma função** que atribui um número no intervalo $[0,1]$  a cada subconjunto de $\\Omega$ pertencente a $\\mathcal{F}$, representando a chance desse subconjunto ocorrer.\n",
    "\n",
    "   - Exemplo: Se o dado for justo, $P(2) = \\dfrac{1}{6}$.\n",
    "\n",
    "   - Essa função satisfaz propriedades como: $P(\\Omega) = 1$ e a aditividade em relação a certos subconjuntos apropriados *(falaremos melhor sobre essas propriedades no tópico a seguir)*.\n",
    "\n",
    "\n",
    "**Em suma, um espaço de probabilidades é uma trinca $(\\Omega, \\mathcal{F}, P)$ que estabelece as seguintes relações matemáticas:**\n",
    "$$\n",
    "   \\mathcal{F} \\subseteq 2^{\\Omega}, \\ \\ \\ \\ P: \\mathcal{F} \\rightarrow [0,1]\n",
    "$$\n",
    "\n",
    "**Intuitivamente, podemos enxergar essa trinca da seguinte forma:**\n",
    "\n",
    "- **$\\Omega$ é o catálogo de todos os resultados possíveis.**\n",
    "\n",
    "- **$\\mathcal{F}$ é a lista de subconjuntos de $\\Omega$ que faz sentido analisar.**\n",
    "\n",
    "- **$P$ é a ferramenta que nos diz o quão provável é a ocorrência de cada subconjunto de $\\Omega$ pertencente a $\\mathcal{F}$ .**"
   ]
  },
  {
   "cell_type": "markdown",
   "metadata": {},
   "source": [
    "#### **Uma breve intuição sobre Conjuntos, Espaços e Funções Mensuráveis**"
   ]
  },
  {
   "cell_type": "markdown",
   "metadata": {},
   "source": [
    "Nos próximos tópicos, mencionaremos os termos \"espaços mensuráveis\", \"conjuntos mensuráveis\" e \"funções mensuráveis\". Não se preocupe com eles por enquanto—são apenas elementos que fazem parte da estrutura do espaço de probabilidade e nos ajudam a garantir que os cálculos de probabilidade sejam bem definidos e que possamos transformar eventos em valores numéricos sem perder a capacidade de analisá-los probabilisticamente.\n",
    "\n",
    "Abaixo, apresentaremos uma breve definição intuitiva de cada um desses termos."
   ]
  },
  {
   "cell_type": "markdown",
   "metadata": {},
   "source": [
    "##### **Conjunto Mensurável**"
   ]
  },
  {
   "cell_type": "markdown",
   "metadata": {},
   "source": [
    "É qualquer subconjunto de $\\Omega$ que pertence a $\\mathcal{F}$ para o qual conseguimos calcular uma probabilidade de forma consistente. \n",
    "\n",
    "De maneira simples, um conjunto mensurável é aquilo que podemos medir dentro do espaço amostral. No contexto da teoria da probabilidade, esses conjuntos são justamente o que chamaremos a partir do próximo tópico de eventos."
   ]
  },
  {
   "cell_type": "markdown",
   "metadata": {},
   "source": [
    "##### **Espaço Mensurável**"
   ]
  },
  {
   "cell_type": "markdown",
   "metadata": {},
   "source": [
    "Um espaço mensurável é o conjunto que contém todos os conjuntos mensuráveis, ou seja, ele determina quais subconjuntos do espaço amostral podem ter uma probabilidade bem definida. Isso garante que nossos cálculos probabilísticos façam sentido dentro do modelo."
   ]
  },
  {
   "cell_type": "markdown",
   "metadata": {},
   "source": [
    "##### **Função Mensurável**"
   ]
  },
  {
   "cell_type": "markdown",
   "metadata": {},
   "source": [
    "Uma função mensurável é aquela que mantém a capacidade de atribuir probabilidades ao transformar elementos do espaço amostral em valores numéricos.\n",
    "\n",
    "Em outras palavras, ao aplicarmos uma função mensurável a um conjunto mensurável *(que chamaremos de evento)*, o resultado continua sendo algo que conseguimos analisar probabilisticamente, sem perder o significado matemático dentro do nosso modelo.\n",
    "\n",
    "Nos próximos tópicos, veremos um exemplo fundamental de função mensurável: as **variáveis aleatórias**."
   ]
  },
  {
   "cell_type": "markdown",
   "metadata": {},
   "source": [
    "**A partir de agora, vamos considerar o espaço de probabilidade apenas como a base matemática que sustenta nossos modelos probabilísticos, sem nos preocuparmos com detalhes técnicos. Ou seja, ele estará sempre presente para garantir que nossos cálculos façam sentido, mas não precisaremos entrar novamente em suas definições formais. Por conta disso, não se preocupe se você não entendeu a fundo toda a definição formal desse conceito.**"
   ]
  },
  {
   "cell_type": "markdown",
   "metadata": {},
   "source": [
    "### **Eventos**"
   ]
  },
  {
   "cell_type": "markdown",
   "metadata": {},
   "source": [
    "Um **evento** é um subconjunto do espaço amostral $\\Omega$ que pertence à sigma-álgebra $\\mathcal{F}$, ou seja, **é um conjunto de resultados do experimento aleatório para os quais faz sentido definir uma probabilidade.**\n",
    "\n",
    "Podemos pensar em um evento como um conjunto de cenários possíveis em um experimento. Por exemplo, ao lançar um dado, o espaço amostral é $\\Omega = \\{1,2,3,4,5,6\\}$. Podemos definir eventos como:\n",
    "\n",
    "- \"O número obtido é par\": $A = \\{2,4,6\\}$\n",
    "- \"O número obtido é maior que 1\": $B = \\{2,3,4,5,6\\}$\n",
    "\n",
    "Perceba que para cada um desses eventos faz sentido definir uma probabilidade (isso ocorre pois eles pertencem à sigma-álgebra $\\mathcal{F}$)\n",
    "\n",
    "**Embora seja natural pensar que qualquer subconjunto de $\\Omega$ possa ser um evento, isso nem sempre é verdade. Existem certos conjuntos matemáticos para os quais não conseguimos definir probabilidades de maneira consistente.**\n",
    "\n",
    "**Um exemplo mais avançado vem da teoria da medida: é possível construir conjuntos tão \"patológicos\" que não pertencem a nenhuma sigma-álgebra razoável usada em probabilidade (se tiver interesse, procure sobre o Conjunto de Vitali ou o Conjunto de Cantor com medida de Lebesgue).**\n",
    "\n",
    "**Por isso, eventos não são apenas quaisquer subconjuntos de $\\Omega$, mas sim aqueles que pertencem a $\\mathcal{F}$, garantindo que uma medida de probabilidade possa ser atribuída a eles.**"
   ]
  },
  {
   "cell_type": "markdown",
   "metadata": {},
   "source": [
    "#### **Definição formal**"
   ]
  },
  {
   "cell_type": "markdown",
   "metadata": {},
   "source": [
    "Um evento $A$ é qualquer elemento da sigma-álgebra $\\mathcal{F}$, isto é, $A \\in \\mathcal{F}$. A probabilidade desse evento é dada por uma função $P$, de forma que $P(A)$ satisfaz as seguintes propriedades básicas da teoria das probabilidades:\n",
    "\n",
    "- **Não-negatividade:** $P(A) > 0$ para todo $A \\in \\mathcal{F}$. **Ou seja, não existem probabilidades negativas.**\n",
    "\n",
    "- **Normalização:** $P(\\Omega) = 1$. **Ou seja, a soma das probabilidades de todos os resultados possíveis deve ser 1.**\n",
    "\n",
    "- **Aditividade contável:** Se $A_{1}, A_{2}, ...$ são eventos mutuamente exclusivos *(isto é, não podem ocorrer simultaneamente)*, então:\n",
    "$$\n",
    "    P\\big(\\bigcup_{i=1}^{\\infty} A_{i} \\big) = \\sum_{i = 1}^{\\infty} P(A_{i}).\n",
    "$$ \n",
    "$$ \n",
    "    \\text{Ou seja, a probabilidade da união de eventos mutuamente exclusivos é igual a soma das probabilidades desses eventos.}\n",
    "$$ \n",
    "   \n",
    "\n",
    "**PS: Matematicamente, um conjunto de eventos $A_{1},A_{2},...,A_{n}$ é mutuamente exclusivo se:**\n",
    "$$\n",
    "    A_{i} \\cap A_{j} = \\emptyset, \\ \\forall \\ i \\neq j.\n",
    "$$\n",
    "        "
   ]
  },
  {
   "cell_type": "markdown",
   "metadata": {},
   "source": [
    "### **Variáveis Aleatórias**"
   ]
  },
  {
   "cell_type": "markdown",
   "metadata": {},
   "source": [
    "Agora que já entendemos o conceito de espaço de probabilidade e eventos, podemos introduzir um dos conceitos mais fundamentais da teoria da probabilidade: as variáveis aleatórias.\n",
    "\n",
    "**Uma variável aleatória é uma forma de quantificar os resultados de um experimento aleatório. Em vez de apenas observar quais eventos ocorrem, muitas vezes queremos associar valores numéricos a esses eventos para que possamos analisá-los matematicamente.**\n",
    "\n",
    "Por exemplo, em um experimento como o lançamento de um dado, o espaço amostral $\\Omega$ contém os possíveis resultados: $\\{1,2,3,4,5,6\\}$. No entanto, pode ser mais útil analisar uma característica específica desses resultados, como o **dobro do número obtido.** Nesse caso, podemos definir uma variável aleatória $X$ que mapeia cada resultado $i$ em $2i$. Se o dado cair em $3$, então $X = 2 \\cdot 3 = 6$. \n",
    "\n",
    "Outro exemplo é o preço de uma ação. O espaço amostral $\\Omega$ representa todos os cenários possíveis para o preço amanha, mas talvez queiramos medir **o retorno percentual diário** em vez do preço absoluto. Definimos então uma variável aleatória $Y$ tal que, se o preço hoje for R$ $100$ e amanha for R$ $105$, teremos: \n",
    "$$\n",
    "Y = \\frac{105 - 100}{100} = 0,05. \\ \\text{Ou seja, $5\\%$ de retorno.}\n",
    "$$\n",
    "De modo geral, **uma variável aleatória é uma regra que associa um número a um evento**, permitindo que calculemos coisas interessantes sobre esse evento, como médias, variâncias e probabilidades de diferentes valores ocorrerem. Isso nos dá uma maneira estruturada de interpretar a incerteza e tomar decisões baseadas em probabilidades."
   ]
  },
  {
   "cell_type": "markdown",
   "metadata": {},
   "source": [
    "#### **Definição Formal**"
   ]
  },
  {
   "cell_type": "markdown",
   "metadata": {},
   "source": [
    "\n",
    "Uma variável aleatória $X$ é uma função que associa cada resultado $\\omega \\in \\Omega$ a um número real:\n",
    "\n",
    "$$\n",
    "    X: \\Omega \\rightarrow \\mathbb{R}\n",
    "$$\n",
    "\n",
    "Ou seja, ela pega um elemento $\\omega$ do espaço amostral $\\Omega$ e devolve um número real $X(\\omega)$.\n",
    "\n",
    "Para que $X$ seja considerada uma variável aleatória, exigimos que ela seja **mensurável**. Isso significa que, para qualquer número real $x$, o conjunto de todos os resultados $\\omega$ do espaço amostral que levam a valores de $X$ menores ou iguais a $x$ deve ser um evento válido, ou seja, deve pertencer a sigma-álgebra $\\mathcal{F}$:\n",
    "\n",
    "$$\n",
    "    \\{\\omega \\in \\Omega | X(\\omega) \\leq x\\} \\in \\mathcal{F}, \\quad \\forall \\ x \\in \\mathbb{R}\n",
    "$$\n",
    "\n",
    "Essa condição garante que podemos calcular probabilidades associadas à variável aleatória $X$ de maneira consistente, pois eventos do tipo $X \\leq x$ precisam estar bem definidos dentro da estrutura probabilística. Em outras palavras, para que $X$ possa ser usada dentro da teoria da probabilidade, os valores que ela assume não podem estar \"fora\" do que conseguimos medir e calcular probabilidades."
   ]
  },
  {
   "cell_type": "markdown",
   "metadata": {},
   "source": [
    "### **Elementos Aleatórios (Extensão da Definição de Variáveis Aleatórias)**"
   ]
  },
  {
   "cell_type": "markdown",
   "metadata": {},
   "source": [
    "A definição de variável aleatória pode ser generalizada para incluir objetos mais complexos que números, como vetores e funções. Para isso, introduzimos o conceito de **elemento aleatório**. Contudo, antes de tratarmos de elementos aleatórios em si, é necessário definir o que é um **espaço de estados**."
   ]
  },
  {
   "cell_type": "markdown",
   "metadata": {},
   "source": [
    "#### **Espaço de Estados**"
   ]
  },
  {
   "cell_type": "markdown",
   "metadata": {},
   "source": [
    "Dado um espaço de probabilidade $(\\Omega, \\mathcal{F}, P)$, o **espaço de estados** $S$ **é o conjunto dos valores que uma variável aleatória (ou elemento aleatório) pode assumir.** \n",
    "\n",
    "Embora o espaço amostral $\\Omega$ contenha todos os possíveis resultados de um experimento aleatório, nem sempre estamos interessados nesses resultados diretamente. Em vez disso, frequentemente analisamos quantidades derivadas desses resultados, como medições, estados ou características observáveis, cujos valores pertencem a $S$.\n",
    "\n",
    "O espaço de estados pode assumir diferentes formas, dependendo do tipo de fenômeno analisado:\n",
    "\n",
    "- Quando o espaço de estados $S$ é $\\mathbb{R}$, estamos lidando com variáveis aleatórias numéricas, como retornos de ativos financeiros ou taxas de inflação, que assumem valores em um espaço contínuo.\n",
    "\n",
    "- Em outros casos, $S$  pode ser um conjunto mais geral, como um conjunto discreto (por exemplo, categorias de classificação de risco de crédito: {baixo, médio, alto}) ou um espaço funcional (como trajetórias de preços de ações ao longo do tempo, onde $S$ é um conjunto de funções).\n",
    "\n",
    "Essa distinção é essencial, pois o tipo de espaço de estados influencia diretamente as ferramentas matemáticas e estatísticas que podemos usar para analisar os dados."
   ]
  },
  {
   "cell_type": "markdown",
   "metadata": {},
   "source": [
    "##### **Definição Formal**"
   ]
  },
  {
   "cell_type": "markdown",
   "metadata": {},
   "source": [
    "Seja $X: \\Omega \\rightarrow S$ uma função mensurável, onde $X$ associa cada realização $\\omega \\in \\Omega$ a um valor $X(\\omega) \\in S$. O conjunto $S$ é denominado **espaço de estados** e representa o conjunto de valores possíveis que o elemento aleatório pode assumir.\n",
    "\n",
    "O espaço de estados deve ser escolhido de forma compatível com o tipo de fenômeno modelado. Alguns exemplos incluem:\n",
    "\n",
    "- $S = \\mathbb{R}$, para variáveis aleatórias reais.\n",
    "- $S = \\mathbb{R}^{n}$, para variáveis aleatórias vetoriais.\n",
    "- $S$ sendo um conjunto discreto $\\{0,1\\}$ para variáveis categóricas binárias.\n",
    "- O espaço das funções contínuas $S = C([0,1])$, utilizado para modelar processos que evoluem continuamente ao longo do tempo, como trajetórias de preços de ativos financeiros ou séries temporais.\n",
    "\n",
    "Assim, o espaço de estados generaliza a noção de conjunto de valores possíveis, permitindo modelar diferentes tipos de incerteza e estruturas matemáticas."
   ]
  },
  {
   "cell_type": "markdown",
   "metadata": {},
   "source": [
    "#### **Elementos Aleatórios**"
   ]
  },
  {
   "cell_type": "markdown",
   "metadata": {},
   "source": [
    "Uma variável aleatória transforma eventos em números. Um elemento aleatório, por sua vez, pode transformar eventos em objetos mais gerais, como vetores, séries temporais, funções ou matrizes.\n",
    "\n",
    "Exemplo:\n",
    "- Se $X$ representa o retorno percentual diário de uma ação, então $X$ é uma variável aleatória real $(X: \\Omega \\rightarrow \\mathbb{R})$.\n",
    "- Se $Z$ representa a trajetória dos preços de uma ação ao longo de uma semana, então $Z$ pode ser um **elemento aleatório funcional** $(Z: \\Omega \\rightarrow C([0,1]))$, onde $C([0,1])$ é o espaço das funções contínuas no intervalo $[0,1]$.\n",
    "\n",
    "Para os propósitos deste curso, não é necessário compreender formalmente o conceito de elemento aleatório. Basta pensar nele como uma generalização da ideia de variável aleatória, permitindo que os valores assumidos não sejam apenas números reais, mas também objetos mais complexos, como vetores, funções ou até distribuições de probabilidade."
   ]
  },
  {
   "cell_type": "markdown",
   "metadata": {},
   "source": [
    "### **Vetor Aleatório**"
   ]
  },
  {
   "cell_type": "markdown",
   "metadata": {},
   "source": [
    "Um vetor aleatório é simplesmente uma generalização de uma variável aleatória para múltiplas dimensões. Enquanto uma variável aleatória representa um número incerto, **um vetor aleatório representa um conjunto de valores incertos ao mesmo tempo.**\n",
    "\n",
    "Por exemplo, considere um investidor analisando o retorno diário de duas ações. Podemos representar esses retornos como um vetor aleatório $X = (X_{1}, X_{2})$, onde $X_{1} \\ \\text{e} \\ X_{2}$ são variáveis aleatórias correspondentes aos retornos de cada ação.\n",
    "\n",
    "De forma geral, um vetor aleatório $X$ pode ser escrito em termos de suas componentes como:\n",
    "\n",
    "$$\n",
    "    X = (X_{1}, X_{2}, ..., X_{n})\n",
    "$$\n",
    "\n",
    "onde cada $X_{i}: \\Omega \\rightarrow R$ é uma variável aleatória individual.\n",
    "\n",
    "Para os propósitos deste curso, não é necessário compreender a fundo a definição formal de vetor aleatório. Basta pensar nele como um conjunto de variáveis aleatórias que podem estar relacionadas entre si."
   ]
  },
  {
   "cell_type": "markdown",
   "metadata": {},
   "source": [
    "### **Família de Variáveis Aleatórias**"
   ]
  },
  {
   "cell_type": "markdown",
   "metadata": {},
   "source": [
    "Em muitas situações, em vez de analisarmos uma única variável aleatória isoladamente, estamos interessados em um conjunto de variáveis aleatórias organizadas de forma sistemática. Esse conjunto, indexado por um parâmetro (como o tempo), é chamado de família de variáveis aleatórias e pode descrever a evolução de um fenômeno ao longo do tempo ou sua variação em diferentes condições."
   ]
  },
  {
   "cell_type": "markdown",
   "metadata": {},
   "source": [
    "#### **Definição formal**"
   ]
  },
  {
   "cell_type": "markdown",
   "metadata": {},
   "source": [
    "Seja $T$ um conjunto de índices (frequentemente, $T = \\mathbb{N}$). Dizemos que $\\{X_{t}\\}_{t \\in T}$ é uma **família de variáveis aleatórias** se, para cada $t \\in T$, a função \n",
    "\n",
    "$$\n",
    "    X_{t}: \\Omega \\rightarrow S\n",
    "$$\n",
    "\n",
    "é uma variável aleatória.\n",
    "\n",
    "Exemplo:\n",
    "\n",
    "- O preço diário de uma ação ao longo de um mês pode ser descrito por $\\{X_{t}\\}_{t \\in T}$, onde $X_{t}$ representa o preço no dia $t$."
   ]
  },
  {
   "cell_type": "markdown",
   "metadata": {},
   "source": [
    "### **Processos estocásticos**"
   ]
  },
  {
   "cell_type": "markdown",
   "metadata": {},
   "source": [
    "**Um processo estocástico é, essencialmente, um modelo que descreve como algo incerto muda ao longo do tempo.** Ele nos ajuda a representar fenômenos em que o futuro é desconhecido, mas pode ser analisado com base em padrões passados.\n",
    "\n",
    "Podemos pensar nele como um filme da incerteza: enquanto uma variável aleatória captura apenas um instante do tempo (como tirar uma foto do preço de uma ação hoje), um processo estocástico registra a evolução dessa incerteza ao longo do tempo (como um gráfico mostrando os preços da ação ao longo dos dias).\n",
    "\n",
    "**Exemplo 1: Preço de uma Ação:** O preço de uma ação na bolsa de valores oscila constantemente. Se chamarmos o preço no dia $t$ de $X_{t}$, teremos uma sequência de preços ao longo do tempo:\n",
    "$$\n",
    "    X_{0}, X_{1}, X_{2}, X_{3}, ...\n",
    "$$\n",
    "Cada $X_{t}$ é uma variável aleatória porque, antes do dia $t$, não sabemos seu valor exato - apenas podemos estimá-lo com base em informações passadas. O conjunto de todas essas variáveis $\\{X_{t}\\}$ forma um processo estocástico.\n",
    "\n",
    "**Exemplo 2: Crescimento Econômico:** O PIB de um país também pode ser modelado como um processo estocástico. Sabemos que ele cresce ao longo do tempo, mas nem sempre de maneira previsível. Variações no comércio global, políticas econômicas e choques externos (como pandemias) influenciam sua trajetória. Se representarmos o PIB a cada trimestre por $Y_{t}$, teremos novamente uma sequência de variáveis aleatórias mudando ao longo do tempo.\n",
    "\n",
    "De modo geral, um processo estocástico pode ser pensado como um sistema onde cada novo estado depende, de alguma forma, dos estados anteriores e de um fator aleatório. Esse fator aleatório pode ser pequeno ou grande, dependendo do contexto.\n",
    "\n",
    "- **Se as mudanças forem totalmente imprevisíveis e independentes do passado, dizemos que o processo não tem memória.**\n",
    "\n",
    "- **Se as mudanças dependerem de valores anteriores, dizemos que o processo tem dependência temporal, como ocorre geralmente com o PIB ou a inflação.**\n"
   ]
  },
  {
   "cell_type": "markdown",
   "metadata": {},
   "source": [
    "#### **Definição formal**"
   ]
  },
  {
   "cell_type": "markdown",
   "metadata": {},
   "source": [
    "Um **processo estocástico** é uma família de variáveis aleatórias $\\{X_{t}\\}_{t \\in T}$, indexadas por um parâmetro $t$, e definidas em um mesmo espaço de probabilidade $(\\Omega, \\mathcal{F}, P)$. O conjunto $T$ representa os índices temporais $t$, podendo $T$ ser discreto ($T = \\mathbb{N}$ ou $T = \\mathbb{Z}$) ou contínuo ($T = \\mathbb{R_{+}}$ ou $T = \\mathbb{R}$). Cada variável $X_{t}: \\Omega \\rightarrow S$ assume valores em um espaço de estados $S$, descrevendo a evolução aleatória de um sistema ao longo do tempo.\n",
    "\n",
    "$\\text{Observação}$: Na grande maioria dos casos, interpretamos os índices $t$ como sendo um instante de tempo.\n"
   ]
  },
  {
   "cell_type": "markdown",
   "metadata": {},
   "source": [
    "### **Aviso importante**"
   ]
  },
  {
   "cell_type": "markdown",
   "metadata": {},
   "source": [
    "Se você não compreendeu todas as definições formais em profundidade, não se preocupe por enquanto. O mais importante neste momento é ter uma boa intuição sobre cada conceito apresentado. No entanto, para uma construção sólida do conhecimento, é altamente recomendável que você revise periodicamente os pontos que não ficaram totalmente claros e se familiarize com as notações matemáticas utilizadas. Embora possam parecer difíceis no início, essas notações permitem expressar ideias complexas de maneira compacta e elegante, facilitando muito a compreensão e o raciocínio em etapas mais avançadas. Com o tempo, elas se tornarão uma ferramenta valiosa para estruturar seu entendimento e aprofundar seus estudos."
   ]
  },
  {
   "cell_type": "markdown",
   "metadata": {},
   "source": [
    "## **3.2 - O que são séries temporais?**"
   ]
  },
  {
   "cell_type": "markdown",
   "metadata": {},
   "source": [
    "**Uma série temporal é uma sequência de valores observados ao longo do tempo. Diferente de dados comuns, que não possuem uma ordem específica, aqui a ordem importa: a posição de um dado na sequência carrega informações sobre sua evolução no tempo.**\n",
    "\n",
    "Exemplos:\n",
    "\n",
    "- O preço diário de uma ação na bolsa.\n",
    "\n",
    "- A temperatura registrada a cada hora em uma cidade.\n",
    "\n",
    "- O volume de transações financeiras por segundo em um mercado eletrônico.\n",
    "\n",
    "**O que todas essas séries têm em comum?**\n",
    "\n",
    "Elas apresentam padrões que podem ser analisados para prever comportamentos futuros, detectar anomalias ou entender sua estrutura estatística."
   ]
  },
  {
   "cell_type": "code",
   "execution_count": null,
   "metadata": {},
   "outputs": [],
   "source": []
  },
  {
   "cell_type": "markdown",
   "metadata": {},
   "source": [
    "### **Definição Formal**"
   ]
  },
  {
   "cell_type": "code",
   "execution_count": null,
   "metadata": {},
   "outputs": [],
   "source": []
  },
  {
   "cell_type": "markdown",
   "metadata": {},
   "source": [
    "## **3.3 - Componentes das Séries Temporais**"
   ]
  },
  {
   "cell_type": "markdown",
   "metadata": {},
   "source": [
    "### **Tendência**"
   ]
  },
  {
   "cell_type": "code",
   "execution_count": null,
   "metadata": {},
   "outputs": [],
   "source": []
  },
  {
   "cell_type": "markdown",
   "metadata": {},
   "source": [
    "### **Sazonalidade**"
   ]
  },
  {
   "cell_type": "code",
   "execution_count": null,
   "metadata": {},
   "outputs": [],
   "source": []
  },
  {
   "cell_type": "markdown",
   "metadata": {},
   "source": [
    "### **Ciclo**"
   ]
  },
  {
   "cell_type": "code",
   "execution_count": null,
   "metadata": {},
   "outputs": [],
   "source": []
  },
  {
   "cell_type": "markdown",
   "metadata": {},
   "source": [
    "### **Ruído**"
   ]
  },
  {
   "cell_type": "code",
   "execution_count": null,
   "metadata": {},
   "outputs": [],
   "source": []
  },
  {
   "cell_type": "markdown",
   "metadata": {},
   "source": [
    "## **3.4 - Estacionariedade e Transformações**"
   ]
  },
  {
   "cell_type": "markdown",
   "metadata": {},
   "source": [
    "### **O que é uma série temporal estacionária?**"
   ]
  },
  {
   "cell_type": "code",
   "execution_count": null,
   "metadata": {},
   "outputs": [],
   "source": []
  },
  {
   "cell_type": "markdown",
   "metadata": {},
   "source": [
    "### **Como verificar a estacionariedade de uma série temporal?**"
   ]
  },
  {
   "cell_type": "code",
   "execution_count": null,
   "metadata": {},
   "outputs": [],
   "source": []
  },
  {
   "cell_type": "markdown",
   "metadata": {},
   "source": [
    "### **Transformações para tornar uma série temporal estacionária**"
   ]
  },
  {
   "cell_type": "code",
   "execution_count": null,
   "metadata": {},
   "outputs": [],
   "source": []
  },
  {
   "cell_type": "markdown",
   "metadata": {},
   "source": [
    "### **Impacto das transformações nas séries temporais**"
   ]
  },
  {
   "cell_type": "code",
   "execution_count": null,
   "metadata": {},
   "outputs": [],
   "source": []
  },
  {
   "cell_type": "markdown",
   "metadata": {},
   "source": [
    "## **3.5 - Modelos AR, MA, ARMA, ARIMA, GARCH**"
   ]
  },
  {
   "cell_type": "markdown",
   "metadata": {},
   "source": [
    "#### **Autoregressão (AR - AutoRegressive)** [MELHORAR]"
   ]
  },
  {
   "cell_type": "markdown",
   "metadata": {},
   "source": [
    "Autoregressão significa que o valor atual de uma variável depende de seus próprios valores passados. Em outras palavras, uma série temporal com comportamento autoregressivo tem memória — os valores anteriores influenciam os futuros.\n",
    "\n",
    "Formalmente, um modelo autoregressivo de ordem $p$, chamado $AR(p)$, pode ser escrito como:\n",
    "$$\n",
    "  X_{t} = \\phi_{1}X_{t-1}+\\phi_{2}X_{t-2}+...+\\phi_{p}X_{t-p} + \\epsilon_{t}\n",
    "$$\n",
    "onde:\n",
    "- $X_{t}$ é o valor da série no tempo $t$.\n",
    "- $\\phi_{1},\\phi{2},...,\\phi_{p}$ são os coeficientes do modelo (indicam a influência dos valores passados).\n",
    "- $\\epsilon_{t}$ é um termo de ruído aleatório (ruído branco).\n",
    "\n",
    "📌 Exemplo: O preço de uma ação hoje pode ser fortemente influenciado pelos preços dos últimos dias. Se os retornos de uma ação seguem um padrão de reversão à média, podemos modelar esse comportamento usando um modelo AR."
   ]
  },
  {
   "cell_type": "markdown",
   "metadata": {},
   "source": [
    "#### **Média Móvel (MA - Moving Average)** [MELHORAR]"
   ]
  },
  {
   "cell_type": "markdown",
   "metadata": {},
   "source": [
    "No modelo MA, o valor presente da variável não é afetado diretamente pelos valores passados da própria variável, mas sim pelos erros aleatórios passados (ou \"choques\"). Esses erros representam informações novas ou inesperadas que afetaram a série temporal.\n",
    "\n",
    "Um modelo de média móvel de ordem $q$, chamado $MA(q)$, pode ser escrito como:\n",
    "$$\n",
    "    X_{t} = \\epsilon_{t} + \\theta_{1}\\epsilon_{t-1} + \\theta_{2}\\epsilon_{t-2} + ... + \\theta_{q}\\epsilon_{t-q\n",
    "    }\n",
    "$$\n",
    "onde:\n",
    "- $X_{t}$ é o valor da série no tempo $t$.\n",
    "- $\\epsilon_{t}$ é o erro aleatório no tempo $t$.\n",
    "- $\\theta_{1},\\theta_{2},...,\\theta_{q}$ são os coeficientes do modelo.\n",
    "\n",
    "📌 Exemplo: Suponha que o preço do petróleo hoje seja impactado por notícias e eventos passados. Um modelo MA pode capturar esse impacto ao modelar como os choques passados influenciam os preços futuros."
   ]
  },
  {
   "cell_type": "markdown",
   "metadata": {},
   "source": [
    "### **Modelos ARMA (AutoRegressive Moving Average)**"
   ]
  },
  {
   "cell_type": "code",
   "execution_count": null,
   "metadata": {},
   "outputs": [],
   "source": []
  },
  {
   "cell_type": "markdown",
   "metadata": {},
   "source": [
    "### **Modelos ARIMA (AutoRegressive Integrated Moving Average)**"
   ]
  },
  {
   "cell_type": "code",
   "execution_count": null,
   "metadata": {},
   "outputs": [],
   "source": []
  },
  {
   "cell_type": "markdown",
   "metadata": {},
   "source": [
    "### **Volatilidade e Modelos GARCH**"
   ]
  },
  {
   "cell_type": "markdown",
   "metadata": {},
   "source": [
    "#### **O que é Heterocedasticidade?**"
   ]
  },
  {
   "cell_type": "code",
   "execution_count": null,
   "metadata": {},
   "outputs": [],
   "source": []
  },
  {
   "cell_type": "markdown",
   "metadata": {},
   "source": [
    "#### **Modelos GARCH**"
   ]
  },
  {
   "cell_type": "code",
   "execution_count": null,
   "metadata": {},
   "outputs": [],
   "source": []
  },
  {
   "cell_type": "markdown",
   "metadata": {},
   "source": [
    "## **3.6 - Cointegração e Modelos VAR**"
   ]
  },
  {
   "cell_type": "code",
   "execution_count": null,
   "metadata": {},
   "outputs": [],
   "source": []
  },
  {
   "cell_type": "markdown",
   "metadata": {},
   "source": [
    "## **3.7 - Modelos de volatilidade estocástica (SV)**"
   ]
  },
  {
   "cell_type": "code",
   "execution_count": null,
   "metadata": {},
   "outputs": [],
   "source": []
  },
  {
   "cell_type": "markdown",
   "metadata": {},
   "source": [
    "## **3.8 - Coeficiente de Hurst**"
   ]
  },
  {
   "cell_type": "code",
   "execution_count": null,
   "metadata": {},
   "outputs": [],
   "source": []
  },
  {
   "cell_type": "markdown",
   "metadata": {},
   "source": [
    "## **3.8 - Análise exploratória de séries temporais financeiras**\n"
   ]
  },
  {
   "cell_type": "code",
   "execution_count": null,
   "metadata": {},
   "outputs": [],
   "source": []
  },
  {
   "cell_type": "markdown",
   "metadata": {},
   "source": [
    "# 🧪 **4 - Backtesting de estratégias**"
   ]
  },
  {
   "cell_type": "markdown",
   "metadata": {},
   "source": [
    "## **4.1 - Introdução ao Backtesting**"
   ]
  },
  {
   "cell_type": "markdown",
   "metadata": {},
   "source": [
    "### **O que é backtest e por que ele é essencial?**"
   ]
  },
  {
   "cell_type": "code",
   "execution_count": null,
   "metadata": {},
   "outputs": [],
   "source": []
  },
  {
   "cell_type": "markdown",
   "metadata": {},
   "source": [
    "### **Diferença entre backtest, paper trading e forward test**"
   ]
  },
  {
   "cell_type": "code",
   "execution_count": null,
   "metadata": {},
   "outputs": [],
   "source": []
  },
  {
   "cell_type": "markdown",
   "metadata": {},
   "source": [
    "### **Riscos e armadilhas comuns em backtesting**"
   ]
  },
  {
   "cell_type": "code",
   "execution_count": null,
   "metadata": {},
   "outputs": [],
   "source": []
  },
  {
   "cell_type": "markdown",
   "metadata": {},
   "source": [
    "## **4.2 - Estrutura de um Backtest**"
   ]
  },
  {
   "cell_type": "markdown",
   "metadata": {},
   "source": [
    "### **Dados históricos: fontes, limpeza e preparação**"
   ]
  },
  {
   "cell_type": "code",
   "execution_count": null,
   "metadata": {},
   "outputs": [],
   "source": []
  },
  {
   "cell_type": "markdown",
   "metadata": {},
   "source": [
    "### **Definição da estratégia (exemplos simples como média móvel, momentum, mean reversion)**"
   ]
  },
  {
   "cell_type": "code",
   "execution_count": null,
   "metadata": {},
   "outputs": [],
   "source": []
  },
  {
   "cell_type": "markdown",
   "metadata": {},
   "source": [
    "### **Simulação de execução (execução em fechamento, abertura, VWAP, slippage, etc.)**"
   ]
  },
  {
   "cell_type": "code",
   "execution_count": null,
   "metadata": {},
   "outputs": [],
   "source": []
  },
  {
   "cell_type": "markdown",
   "metadata": {},
   "source": [
    "### **Medidas de performance: retorno acumulado, drawdown, Sharpe Ratio, Sortino Ratio, etc.**"
   ]
  },
  {
   "cell_type": "code",
   "execution_count": null,
   "metadata": {},
   "outputs": [],
   "source": []
  },
  {
   "cell_type": "markdown",
   "metadata": {},
   "source": [
    "## **4.3 - Armadilhas e Problemas Comuns**"
   ]
  },
  {
   "cell_type": "markdown",
   "metadata": {},
   "source": [
    "### **Lookahead Bias: uso indevido de informações futuras**"
   ]
  },
  {
   "cell_type": "code",
   "execution_count": null,
   "metadata": {},
   "outputs": [],
   "source": []
  },
  {
   "cell_type": "markdown",
   "metadata": {},
   "source": [
    "### **Data Snooping Bias: overfitting ao histórico de dados**"
   ]
  },
  {
   "cell_type": "code",
   "execution_count": null,
   "metadata": {},
   "outputs": [],
   "source": []
  },
  {
   "cell_type": "markdown",
   "metadata": {},
   "source": [
    "### **Survivorship Bias: impacto de ações que deixaram o índice**"
   ]
  },
  {
   "cell_type": "code",
   "execution_count": null,
   "metadata": {},
   "outputs": [],
   "source": []
  },
  {
   "cell_type": "markdown",
   "metadata": {},
   "source": [
    "### **Transaction Costs e Slippage: impactos reais das ordens no mercado**"
   ]
  },
  {
   "cell_type": "code",
   "execution_count": null,
   "metadata": {},
   "outputs": [],
   "source": []
  },
  {
   "cell_type": "markdown",
   "metadata": {},
   "source": [
    "## **4.4 - Técnicas de Validação**"
   ]
  },
  {
   "cell_type": "markdown",
   "metadata": {},
   "source": [
    "### **Walk-Forward Analysis: testar estratégias em janelas móveis**"
   ]
  },
  {
   "cell_type": "code",
   "execution_count": null,
   "metadata": {},
   "outputs": [],
   "source": []
  },
  {
   "cell_type": "markdown",
   "metadata": {},
   "source": [
    "### **Monte Carlo Simulation: avaliar robustez da estratégia**"
   ]
  },
  {
   "cell_type": "code",
   "execution_count": null,
   "metadata": {},
   "outputs": [],
   "source": []
  },
  {
   "cell_type": "markdown",
   "metadata": {},
   "source": [
    "### **Bootstrap e Resampling: entender variabilidade de resultados**"
   ]
  },
  {
   "cell_type": "code",
   "execution_count": null,
   "metadata": {},
   "outputs": [],
   "source": []
  },
  {
   "cell_type": "markdown",
   "metadata": {},
   "source": [
    "### **Backtest em Diferentes Regimes de Mercado: períodos de alta, baixa e lateralização**"
   ]
  },
  {
   "cell_type": "code",
   "execution_count": null,
   "metadata": {},
   "outputs": [],
   "source": []
  },
  {
   "cell_type": "markdown",
   "metadata": {},
   "source": [
    "## **4.5 - Introdução ao Backtrader**"
   ]
  },
  {
   "cell_type": "code",
   "execution_count": null,
   "metadata": {},
   "outputs": [],
   "source": []
  },
  {
   "cell_type": "markdown",
   "metadata": {},
   "source": [
    "# 🔥 **5 - Introdução ao Mercado Financeiro para Quants**"
   ]
  },
  {
   "cell_type": "markdown",
   "metadata": {},
   "source": [
    "O mercado financeiro é um ecossistema dinâmico e altamente competitivo, onde ativos são negociados, riscos são gerenciados e grandes volumes de informação são processados em tempo real. Para um profissional quantitativo (quant), compreender sua estrutura, funcionamento e principais instrumentos é essencial para a formulação de estratégias matemáticas e estatísticas que possam gerar vantagem competitiva."
   ]
  },
  {
   "cell_type": "markdown",
   "metadata": {},
   "source": [
    "## **5.1 - Segmentos do Mercado Financeiro**"
   ]
  },
  {
   "cell_type": "markdown",
   "metadata": {},
   "source": [
    "## **5.2 - Conexões entre os Segmentos do Mercado Financeiro**"
   ]
  },
  {
   "cell_type": "markdown",
   "metadata": {},
   "source": [
    "O mercado financeiro pode ser dividido em diversos segmentos, cada um com características próprias:"
   ]
  },
  {
   "cell_type": "markdown",
   "metadata": {},
   "source": [
    "### **Mercado de Renda Variável**"
   ]
  },
  {
   "cell_type": "markdown",
   "metadata": {},
   "source": [
    "Composto principalmente por ações, ETFs e derivativos, onde os retornos não são fixos e dependem das condições de mercado."
   ]
  },
  {
   "cell_type": "markdown",
   "metadata": {},
   "source": [
    "### **Mercado de Renda Fixa**"
   ]
  },
  {
   "cell_type": "markdown",
   "metadata": {},
   "source": [
    "Engloba títulos do governo e corporativos, com fluxos de pagamento definidos."
   ]
  },
  {
   "cell_type": "markdown",
   "metadata": {},
   "source": [
    "### **Mercado de Derivativos**"
   ]
  },
  {
   "cell_type": "markdown",
   "metadata": {},
   "source": [
    "Inclui contratos futuros, opções e swaps, usados para hedge e especulação."
   ]
  },
  {
   "cell_type": "markdown",
   "metadata": {},
   "source": [
    "### **Mercado de Câmbio**"
   ]
  },
  {
   "cell_type": "markdown",
   "metadata": {},
   "source": [
    "Onde ocorre a negociação de moedas, sendo um dos mercados mais líquidos do mundo."
   ]
  },
  {
   "cell_type": "markdown",
   "metadata": {},
   "source": [
    "### **Mercado de Criptoativos**"
   ]
  },
  {
   "cell_type": "markdown",
   "metadata": {},
   "source": [
    "Segmento emergente que engloba criptomoedas e tokens descentralizados."
   ]
  },
  {
   "cell_type": "markdown",
   "metadata": {},
   "source": [
    "## **5.3 - O Papel do Quant no Mercado Financeiro**"
   ]
  },
  {
   "cell_type": "markdown",
   "metadata": {},
   "source": [
    "Os quants desempenham um papel fundamental ao utilizar técnicas matemáticas, estatísticas e de aprendizado de máquina para desenvolver modelos que auxiliam na tomada de decisão. Algumas de suas principais funções incluem:"
   ]
  },
  {
   "cell_type": "markdown",
   "metadata": {},
   "source": [
    "#### **Precificação de Ativos**"
   ]
  },
  {
   "cell_type": "markdown",
   "metadata": {},
   "source": [
    "A precificação de ativos é essencial para avaliar o valor justo de instrumentos financeiros, desde ações e derivativos até criptoativos e produtos estruturados. Modelos clássicos como o CAPM (Capital Asset Pricing Model) e o APT (Arbitrage Pricing Theory) ajudam a estimar o retorno esperado de um ativo com base no risco assumido. Além disso, métodos mais avançados, como redes neurais e aprendizado de máquina, vêm sendo aplicados para capturar padrões complexos na precificação de ativos.\n",
    "\n",
    "Dentro desse escopo, a arbitragem estatística surge como uma aplicação quantitativa relevante, identificando relações entre ativos correlacionados e explorando discrepâncias temporárias de preço."
   ]
  },
  {
   "cell_type": "markdown",
   "metadata": {},
   "source": [
    "#### **Análise e Modelagem de Risco**"
   ]
  },
  {
   "cell_type": "markdown",
   "metadata": {},
   "source": [
    "Gerenciar risco é um dos pilares do mercado financeiro, e os quants desempenham um papel vital na modelagem de riscos individuais e sistêmicos. Métricas como Value at Risk (VaR), Expected Shortfall e Stress Testing ajudam a quantificar exposição ao risco em diferentes cenários de mercado.\n",
    "\n",
    "A gestão de risco sistêmico também faz parte desse escopo, envolvendo a modelagem de crises financeiras e a identificação de interconexões que podem amplificar choques de mercado. Modelos de redes complexas e dinâmica de sistemas são frequentemente utilizados para entender esses impactos."
   ]
  },
  {
   "cell_type": "markdown",
   "metadata": {},
   "source": [
    "#### **Trading Algorítmico**"
   ]
  },
  {
   "cell_type": "markdown",
   "metadata": {},
   "source": [
    "O trading algorítmico permite a automação de estratégias de compra e venda, baseando-se em modelos estatísticos, padrões de mercado e otimização computacional para tomada de decisão. Esse campo pode ser subdividido em diversas abordagens, cada uma com objetivos e metodologias específicas:\n",
    "\n",
    "- Execução Algorítmica: Visa minimizar o impacto de grandes ordens no mercado ao dividi-las estrategicamente em lotes menores, utilizando técnicas como VWAP (Volume Weighted Average Price), TWAP (Time Weighted Average Price) e POV (Percentage of Volume) para garantir uma execução eficiente.\n",
    "\n",
    "- Market Making Algorítmico: Foca na provisão contínua de liquidez, ajustando dinamicamente bids e asks para capturar o spread e gerenciar riscos de inventário. Algoritmos avançados analisam profundidade do livro de ofertas, volatilidade e fluxo de ordens para otimizar as cotações.\n",
    "\n",
    "- Arbitragem Estatística: Explora ineficiências de mercado ao identificar discrepâncias temporárias na precificação de ativos correlacionados, como pares de ações, futuros e ETFs, por meio de modelos matemáticos e séries temporais.\n",
    "\n",
    "- High-Frequency Trading (HFT): Executa operações em altíssima velocidade, com latências de microssegundos, explorando micro-ineficiências de precificação e fluxo de ordens. HFTs podem incluir estratégias como market making ultrarrápido, arbitragem de latência e detecção de padrões de fluxo de ordens.\n",
    "\n",
    "- Momentum e Reversão à Média: Estratégias que operam com base em padrões históricos de preços. O momentum trading busca lucrar com a continuidade de tendências, enquanto a reversão à média identifica ativos que se afastaram de seus valores médios esperados, apostando em um retorno ao equilíbrio.\n",
    "\n",
    "- Market Microstructure-Based Trading: Analisa a estrutura do mercado em nível granular, explorando padrões no livro de ofertas, desequilíbrio entre compradores e vendedores e impacto das ordens para prever movimentos de curto prazo.\n",
    "\n",
    "- Trading Baseado em Machine Learning: Algoritmos de aprendizado de máquina e redes neurais são usados para identificar padrões complexos em grandes volumes de dados, aprimorando a previsão de preços e a alocação de portfólio. Modelos como redes neurais convolucionais (CNNs), LSTMs e reforço profundo são cada vez mais empregados.\n",
    "\n",
    "Com o avanço da análise de dados alternativos, estratégias algorítmicas vêm incorporando informações de fontes não convencionais, como sentimento de mercado, redes sociais, imagens de satélite e dados geoespaciais, criando novas oportunidades de arbitragem e precificação.\n",
    "\n",
    "A infraestrutura quantitativa desempenha um papel crucial nesse ecossistema, possibilitando a construção de plataformas robustas para backtesting, gestão de dados financeiros e simulação de cenários. Técnicas de otimização computacional, processamento paralelo e execução de baixa latência são fundamentais para lidar com grandes volumes de informação e operar com máxima eficiência."
   ]
  },
  {
   "cell_type": "markdown",
   "metadata": {},
   "source": [
    "#### **Gestão de Portfólio**"
   ]
  },
  {
   "cell_type": "markdown",
   "metadata": {},
   "source": [
    "A gestão quantitativa de portfólios busca otimizar a alocação de ativos para maximizar retornos ajustados ao risco. Modelos como a Teoria Moderna do Portfólio (MPT), Otimização de Black-Litterman e técnicas baseadas em aprendizado de máquina ajudam a encontrar a melhor composição de ativos para diferentes perfis de investidor."
   ]
  },
  {
   "cell_type": "markdown",
   "metadata": {},
   "source": [
    "- Como os derivativos são usados para hedge no mercado de renda variável e fixa?\n",
    "\n",
    "- Como a taxa de câmbio influencia investimentos e gestão de risco?\n",
    "\n",
    "- Qual é o impacto das taxas de juros na precificação de ativos?"
   ]
  },
  {
   "cell_type": "markdown",
   "metadata": {},
   "source": [
    "## **5.4 - Hipótese dos Mercados Eficientes**"
   ]
  },
  {
   "cell_type": "markdown",
   "metadata": {},
   "source": [
    "### **O que é?**"
   ]
  },
  {
   "cell_type": "code",
   "execution_count": null,
   "metadata": {},
   "outputs": [],
   "source": []
  },
  {
   "cell_type": "markdown",
   "metadata": {},
   "source": [
    "### **Como quants atuam sob essa hipótese?**"
   ]
  },
  {
   "cell_type": "code",
   "execution_count": null,
   "metadata": {},
   "outputs": [],
   "source": []
  },
  {
   "cell_type": "markdown",
   "metadata": {},
   "source": [
    "# ⚖️ **6 - Modelagem de riscos**"
   ]
  },
  {
   "cell_type": "markdown",
   "metadata": {},
   "source": [
    "## **6.1 - Fundamentos do Risco e Retorno**"
   ]
  },
  {
   "cell_type": "markdown",
   "metadata": {},
   "source": [
    "### **O que é retorno?**"
   ]
  },
  {
   "cell_type": "code",
   "execution_count": null,
   "metadata": {},
   "outputs": [],
   "source": []
  },
  {
   "cell_type": "markdown",
   "metadata": {},
   "source": [
    "#### **Retorno simples vs. Retorno logarítmico**"
   ]
  },
  {
   "cell_type": "code",
   "execution_count": null,
   "metadata": {},
   "outputs": [],
   "source": []
  },
  {
   "cell_type": "markdown",
   "metadata": {},
   "source": [
    "#### **Retorno esperado e medidas de centralidade**"
   ]
  },
  {
   "cell_type": "code",
   "execution_count": null,
   "metadata": {},
   "outputs": [],
   "source": []
  },
  {
   "cell_type": "markdown",
   "metadata": {},
   "source": [
    "### **O que é risco?**"
   ]
  },
  {
   "cell_type": "code",
   "execution_count": null,
   "metadata": {},
   "outputs": [],
   "source": []
  },
  {
   "cell_type": "markdown",
   "metadata": {},
   "source": [
    "#### **Volatilidade como medida de risco**"
   ]
  },
  {
   "cell_type": "code",
   "execution_count": null,
   "metadata": {},
   "outputs": [],
   "source": []
  },
  {
   "cell_type": "markdown",
   "metadata": {},
   "source": [
    "#### **Desvio padrão vs. Semi-desvio padrão**"
   ]
  },
  {
   "cell_type": "code",
   "execution_count": null,
   "metadata": {},
   "outputs": [],
   "source": []
  },
  {
   "cell_type": "markdown",
   "metadata": {},
   "source": [
    "#### **Assimetria e curtose: análise da distribuição dos retornos**"
   ]
  },
  {
   "cell_type": "code",
   "execution_count": null,
   "metadata": {},
   "outputs": [],
   "source": []
  },
  {
   "cell_type": "markdown",
   "metadata": {},
   "source": [
    "## **6.2 - Relação entre risco e retorno**"
   ]
  },
  {
   "cell_type": "markdown",
   "metadata": {},
   "source": [
    "#### **Prêmio de risco e o conceito de aversão ao risco**"
   ]
  },
  {
   "cell_type": "code",
   "execution_count": null,
   "metadata": {},
   "outputs": [],
   "source": []
  },
  {
   "cell_type": "markdown",
   "metadata": {},
   "source": [
    "#### **Trade-off risco-retorno e a linha de fronteira eficiente**"
   ]
  },
  {
   "cell_type": "code",
   "execution_count": null,
   "metadata": {},
   "outputs": [],
   "source": []
  },
  {
   "cell_type": "markdown",
   "metadata": {},
   "source": [
    "## **6.3 - Métricas de risco**"
   ]
  },
  {
   "cell_type": "markdown",
   "metadata": {},
   "source": [
    "##### **Variância e desvio padrão**"
   ]
  },
  {
   "cell_type": "code",
   "execution_count": null,
   "metadata": {},
   "outputs": [],
   "source": []
  },
  {
   "cell_type": "markdown",
   "metadata": {},
   "source": [
    "##### **Value at Risk (VaR) e Conditional VaR (CVaR)**"
   ]
  },
  {
   "cell_type": "code",
   "execution_count": null,
   "metadata": {},
   "outputs": [],
   "source": []
  },
  {
   "cell_type": "markdown",
   "metadata": {
    "vscode": {
     "languageId": "plaintext"
    }
   },
   "source": [
    "#### **Beta $(\\beta)$**"
   ]
  },
  {
   "cell_type": "code",
   "execution_count": null,
   "metadata": {},
   "outputs": [],
   "source": []
  },
  {
   "cell_type": "markdown",
   "metadata": {},
   "source": [
    "## **6.4 - Métricas de desempenho ajustadas ao risco**"
   ]
  },
  {
   "cell_type": "markdown",
   "metadata": {},
   "source": [
    "#### **Índice de Sharpe**"
   ]
  },
  {
   "cell_type": "code",
   "execution_count": null,
   "metadata": {},
   "outputs": [],
   "source": []
  },
  {
   "cell_type": "markdown",
   "metadata": {},
   "source": [
    "#### **Índice de Sortino**"
   ]
  },
  {
   "cell_type": "code",
   "execution_count": null,
   "metadata": {},
   "outputs": [],
   "source": []
  },
  {
   "cell_type": "markdown",
   "metadata": {},
   "source": [
    "#### **Índice de Treynor**"
   ]
  },
  {
   "cell_type": "code",
   "execution_count": null,
   "metadata": {},
   "outputs": [],
   "source": []
  },
  {
   "cell_type": "markdown",
   "metadata": {},
   "source": [
    "#### **Alpha de Jensen e Information Ratio**"
   ]
  },
  {
   "cell_type": "code",
   "execution_count": null,
   "metadata": {},
   "outputs": [],
   "source": []
  },
  {
   "cell_type": "markdown",
   "metadata": {
    "vscode": {
     "languageId": "plaintext"
    }
   },
   "source": [
    "## **6.5 - Teoria do Drawdown e Controle de Risco**"
   ]
  },
  {
   "cell_type": "code",
   "execution_count": null,
   "metadata": {},
   "outputs": [],
   "source": []
  },
  {
   "cell_type": "markdown",
   "metadata": {
    "vscode": {
     "languageId": "plaintext"
    }
   },
   "source": [
    "## **6.6 - Teoria dos Mercados Fractais e Impacto de Eventos Extremos**"
   ]
  },
  {
   "cell_type": "code",
   "execution_count": null,
   "metadata": {},
   "outputs": [],
   "source": []
  },
  {
   "cell_type": "markdown",
   "metadata": {
    "vscode": {
     "languageId": "plaintext"
    }
   },
   "source": [
    "# 💰 **7 - Modelos Clássicos de Precificação de Ativos**"
   ]
  },
  {
   "cell_type": "markdown",
   "metadata": {},
   "source": [
    "## **7.1 - Entendendo a Precificação como um Problema de Previsão**"
   ]
  },
  {
   "cell_type": "markdown",
   "metadata": {
    "vscode": {
     "languageId": "plaintext"
    }
   },
   "source": [
    "Modelos de precificação tentam estimar o \"valor justo\" de um ativo com base em fatores relevantes. [Completar]"
   ]
  },
  {
   "cell_type": "markdown",
   "metadata": {
    "vscode": {
     "languageId": "plaintext"
    }
   },
   "source": [
    "## **7.2 - O que é o Alpha $(\\alpha)$?**"
   ]
  },
  {
   "cell_type": "code",
   "execution_count": null,
   "metadata": {},
   "outputs": [],
   "source": []
  },
  {
   "cell_type": "markdown",
   "metadata": {
    "vscode": {
     "languageId": "plaintext"
    }
   },
   "source": [
    "## **7.3 - Tipos de Modelos de Precificação**"
   ]
  },
  {
   "cell_type": "markdown",
   "metadata": {
    "vscode": {
     "languageId": "plaintext"
    }
   },
   "source": [
    "### **Modelos baseados em equilíbrio**"
   ]
  },
  {
   "cell_type": "markdown",
   "metadata": {
    "vscode": {
     "languageId": "plaintext"
    }
   },
   "source": [
    "(ex: CAPM) assumem que o mercado segue certas regras racionais. [Completar]"
   ]
  },
  {
   "cell_type": "markdown",
   "metadata": {
    "vscode": {
     "languageId": "plaintext"
    }
   },
   "source": [
    "### **Modelos estatísticos e de machine learning**"
   ]
  },
  {
   "cell_type": "markdown",
   "metadata": {
    "vscode": {
     "languageId": "plaintext"
    }
   },
   "source": [
    "tentam capturar padrões históricos e prever preços empiricamente. [Completar]"
   ]
  },
  {
   "cell_type": "markdown",
   "metadata": {
    "vscode": {
     "languageId": "plaintext"
    }
   },
   "source": [
    "### **Modelos baseados em arbitragem**"
   ]
  },
  {
   "cell_type": "markdown",
   "metadata": {
    "vscode": {
     "languageId": "plaintext"
    }
   },
   "source": [
    "(ex: APT) exploram ineficiências temporárias para prever retornos ajustados a fatores de risco. [Completar]"
   ]
  },
  {
   "cell_type": "markdown",
   "metadata": {
    "vscode": {
     "languageId": "plaintext"
    }
   },
   "source": [
    "## **7.4 - Capital Asset Pricing Model (CAPM)**"
   ]
  },
  {
   "cell_type": "markdown",
   "metadata": {
    "vscode": {
     "languageId": "plaintext"
    }
   },
   "source": [
    "### **Hipóteses e fundamentos do CAPM**"
   ]
  },
  {
   "cell_type": "code",
   "execution_count": null,
   "metadata": {},
   "outputs": [],
   "source": []
  },
  {
   "cell_type": "markdown",
   "metadata": {
    "vscode": {
     "languageId": "plaintext"
    }
   },
   "source": [
    "### **Linha do Mercado de Capitais (CML) e Linha do Mercado de Títulos (SML)**"
   ]
  },
  {
   "cell_type": "code",
   "execution_count": null,
   "metadata": {},
   "outputs": [],
   "source": []
  },
  {
   "cell_type": "markdown",
   "metadata": {
    "vscode": {
     "languageId": "plaintext"
    }
   },
   "source": [
    "### **Aplicação do CAPM para avaliação de ativos**"
   ]
  },
  {
   "cell_type": "code",
   "execution_count": null,
   "metadata": {},
   "outputs": [],
   "source": []
  },
  {
   "cell_type": "markdown",
   "metadata": {
    "vscode": {
     "languageId": "plaintext"
    }
   },
   "source": [
    "### **Limitações do CAPM: suposições irrealistas?**"
   ]
  },
  {
   "cell_type": "code",
   "execution_count": null,
   "metadata": {},
   "outputs": [],
   "source": []
  },
  {
   "cell_type": "markdown",
   "metadata": {
    "vscode": {
     "languageId": "plaintext"
    }
   },
   "source": [
    "## **7.5 - Arbitrage Pricing Theory (APT)**"
   ]
  },
  {
   "cell_type": "markdown",
   "metadata": {
    "vscode": {
     "languageId": "plaintext"
    }
   },
   "source": [
    "### **Diferença entre APT e CAPM: por que múltiplos fatores?**"
   ]
  },
  {
   "cell_type": "code",
   "execution_count": null,
   "metadata": {},
   "outputs": [],
   "source": []
  },
  {
   "cell_type": "markdown",
   "metadata": {
    "vscode": {
     "languageId": "plaintext"
    }
   },
   "source": [
    "### **Identificação de fatores relevantes (exemplo: Fama-French)**"
   ]
  },
  {
   "cell_type": "code",
   "execution_count": null,
   "metadata": {},
   "outputs": [],
   "source": []
  },
  {
   "cell_type": "markdown",
   "metadata": {
    "vscode": {
     "languageId": "plaintext"
    }
   },
   "source": [
    "### **Construção de um modelo multifatorial**"
   ]
  },
  {
   "cell_type": "code",
   "execution_count": null,
   "metadata": {},
   "outputs": [],
   "source": []
  },
  {
   "cell_type": "markdown",
   "metadata": {
    "vscode": {
     "languageId": "plaintext"
    }
   },
   "source": [
    "### **APT na prática: análise empírica e desafios**"
   ]
  },
  {
   "cell_type": "code",
   "execution_count": null,
   "metadata": {},
   "outputs": [],
   "source": []
  },
  {
   "cell_type": "markdown",
   "metadata": {
    "vscode": {
     "languageId": "plaintext"
    }
   },
   "source": [
    "## **7.6 Comparação: CAPM vs. APT**"
   ]
  },
  {
   "cell_type": "markdown",
   "metadata": {
    "vscode": {
     "languageId": "plaintext"
    }
   },
   "source": [
    "### **CAPM como caso especial do APT?**"
   ]
  },
  {
   "cell_type": "code",
   "execution_count": null,
   "metadata": {},
   "outputs": [],
   "source": []
  },
  {
   "cell_type": "markdown",
   "metadata": {
    "vscode": {
     "languageId": "plaintext"
    }
   },
   "source": [
    "### **Quando usar cada um?**"
   ]
  },
  {
   "cell_type": "code",
   "execution_count": null,
   "metadata": {},
   "outputs": [],
   "source": []
  },
  {
   "cell_type": "markdown",
   "metadata": {},
   "source": [
    "### **Erros de previsão e incerteza: Como medir a eficácia de um modelo de precificação?**"
   ]
  },
  {
   "cell_type": "code",
   "execution_count": null,
   "metadata": {},
   "outputs": [],
   "source": []
  },
  {
   "cell_type": "markdown",
   "metadata": {
    "vscode": {
     "languageId": "plaintext"
    }
   },
   "source": [
    "# 💼 **8 - Gestão de portfólio**"
   ]
  },
  {
   "cell_type": "markdown",
   "metadata": {
    "vscode": {
     "languageId": "plaintext"
    }
   },
   "source": [
    "## **8.1 - Fundamentos da Gestão de Portfólio**"
   ]
  },
  {
   "cell_type": "markdown",
   "metadata": {
    "vscode": {
     "languageId": "plaintext"
    }
   },
   "source": [
    "### **O que é um portfólio?**"
   ]
  },
  {
   "cell_type": "code",
   "execution_count": null,
   "metadata": {},
   "outputs": [],
   "source": []
  },
  {
   "cell_type": "markdown",
   "metadata": {
    "vscode": {
     "languageId": "plaintext"
    }
   },
   "source": [
    "### **Tipos de ativos em um portfólio**"
   ]
  },
  {
   "cell_type": "code",
   "execution_count": null,
   "metadata": {},
   "outputs": [],
   "source": []
  },
  {
   "cell_type": "markdown",
   "metadata": {
    "vscode": {
     "languageId": "plaintext"
    }
   },
   "source": [
    "### **O papel do quant na gestão de portfólio**"
   ]
  },
  {
   "cell_type": "code",
   "execution_count": null,
   "metadata": {},
   "outputs": [],
   "source": []
  },
  {
   "cell_type": "markdown",
   "metadata": {
    "vscode": {
     "languageId": "plaintext"
    }
   },
   "source": [
    "## **8.2 Medidas de Desempenho e Risco**"
   ]
  },
  {
   "cell_type": "markdown",
   "metadata": {
    "vscode": {
     "languageId": "plaintext"
    }
   },
   "source": [
    "### **Retorno esperado de um portfólio**"
   ]
  },
  {
   "cell_type": "code",
   "execution_count": null,
   "metadata": {},
   "outputs": [],
   "source": []
  },
  {
   "cell_type": "markdown",
   "metadata": {
    "vscode": {
     "languageId": "plaintext"
    }
   },
   "source": [
    "### **Volatilidade de um portfólio**"
   ]
  },
  {
   "cell_type": "code",
   "execution_count": null,
   "metadata": {},
   "outputs": [],
   "source": []
  },
  {
   "cell_type": "markdown",
   "metadata": {
    "vscode": {
     "languageId": "plaintext"
    }
   },
   "source": [
    "### **Correlação e Covariância entre os ativos de um portfólio**"
   ]
  },
  {
   "cell_type": "code",
   "execution_count": null,
   "metadata": {},
   "outputs": [],
   "source": []
  },
  {
   "cell_type": "markdown",
   "metadata": {
    "vscode": {
     "languageId": "plaintext"
    }
   },
   "source": [
    "### **Índice de Sharpe e Sortino**"
   ]
  },
  {
   "cell_type": "code",
   "execution_count": null,
   "metadata": {},
   "outputs": [],
   "source": []
  },
  {
   "cell_type": "markdown",
   "metadata": {
    "vscode": {
     "languageId": "plaintext"
    }
   },
   "source": [
    "### **Value at Risk (VaR) e Conditional VaR (CVaR)**"
   ]
  },
  {
   "cell_type": "code",
   "execution_count": null,
   "metadata": {},
   "outputs": [],
   "source": []
  },
  {
   "cell_type": "markdown",
   "metadata": {},
   "source": [
    "### **Tracking Error**"
   ]
  },
  {
   "cell_type": "code",
   "execution_count": null,
   "metadata": {},
   "outputs": [],
   "source": []
  },
  {
   "cell_type": "markdown",
   "metadata": {
    "vscode": {
     "languageId": "plaintext"
    }
   },
   "source": [
    "## **8.3 - Teoria Moderna do Portfólio (Markowitz)**"
   ]
  },
  {
   "cell_type": "markdown",
   "metadata": {
    "vscode": {
     "languageId": "plaintext"
    }
   },
   "source": [
    "### **Fronteira eficiente**"
   ]
  },
  {
   "cell_type": "code",
   "execution_count": null,
   "metadata": {},
   "outputs": [],
   "source": []
  },
  {
   "cell_type": "markdown",
   "metadata": {
    "vscode": {
     "languageId": "plaintext"
    }
   },
   "source": [
    "### **Diversificação e Redução de Risco**"
   ]
  },
  {
   "cell_type": "code",
   "execution_count": null,
   "metadata": {},
   "outputs": [],
   "source": []
  },
  {
   "cell_type": "markdown",
   "metadata": {
    "vscode": {
     "languageId": "plaintext"
    }
   },
   "source": [
    "### **Otimização de Portfólio**"
   ]
  },
  {
   "cell_type": "code",
   "execution_count": null,
   "metadata": {},
   "outputs": [],
   "source": []
  },
  {
   "cell_type": "markdown",
   "metadata": {
    "vscode": {
     "languageId": "plaintext"
    }
   },
   "source": [
    "### **Cálculo da Alocação Ótima**"
   ]
  },
  {
   "cell_type": "code",
   "execution_count": null,
   "metadata": {},
   "outputs": [],
   "source": []
  },
  {
   "cell_type": "markdown",
   "metadata": {
    "vscode": {
     "languageId": "plaintext"
    }
   },
   "source": [
    "## **8.4 Métodos Quantitativos para Alocação de Portfólio**"
   ]
  },
  {
   "cell_type": "markdown",
   "metadata": {
    "vscode": {
     "languageId": "plaintext"
    }
   },
   "source": [
    "### **Equal-weighted (Pesos iguais) vs. Market Cap-weighted (Pesos proporcionais)**"
   ]
  },
  {
   "cell_type": "code",
   "execution_count": null,
   "metadata": {},
   "outputs": [],
   "source": []
  },
  {
   "cell_type": "markdown",
   "metadata": {
    "vscode": {
     "languageId": "plaintext"
    }
   },
   "source": [
    "### **Minimum Variance Portfolio (Portfólio de Mínima Variância)**"
   ]
  },
  {
   "cell_type": "code",
   "execution_count": null,
   "metadata": {},
   "outputs": [],
   "source": []
  },
  {
   "cell_type": "markdown",
   "metadata": {
    "vscode": {
     "languageId": "plaintext"
    }
   },
   "source": [
    "### **Maximum Sharpe Ratio Portfolio**"
   ]
  },
  {
   "cell_type": "code",
   "execution_count": null,
   "metadata": {},
   "outputs": [],
   "source": []
  },
  {
   "cell_type": "markdown",
   "metadata": {
    "vscode": {
     "languageId": "plaintext"
    }
   },
   "source": [
    "### **Risk Parity**"
   ]
  },
  {
   "cell_type": "code",
   "execution_count": null,
   "metadata": {},
   "outputs": [],
   "source": []
  },
  {
   "cell_type": "markdown",
   "metadata": {
    "vscode": {
     "languageId": "plaintext"
    }
   },
   "source": [
    "### **Black-Litterman Model (Abordagem bayesiana para otimização)**"
   ]
  },
  {
   "cell_type": "code",
   "execution_count": null,
   "metadata": {},
   "outputs": [],
   "source": []
  },
  {
   "cell_type": "markdown",
   "metadata": {
    "vscode": {
     "languageId": "plaintext"
    }
   },
   "source": [
    "# 🤖 **9 - Estratégias de Investimentos Quantitativas**"
   ]
  },
  {
   "cell_type": "markdown",
   "metadata": {
    "vscode": {
     "languageId": "plaintext"
    }
   },
   "source": [
    "## **9.1 - Tipos de estratégias**"
   ]
  },
  {
   "cell_type": "markdown",
   "metadata": {},
   "source": [
    "No universo das finanças quantitativas, as estratégias de investimento são construídas com base em modelos matemáticos, estatísticos e computacionais. Elas podem ser categorizadas de diversas formas, sendo algumas das principais:\n",
    "\n"
   ]
  },
  {
   "cell_type": "markdown",
   "metadata": {
    "vscode": {
     "languageId": "plaintext"
    }
   },
   "source": [
    "### **1. Estratégias Baseadas em Fatores (Factor Investing)**"
   ]
  },
  {
   "cell_type": "markdown",
   "metadata": {
    "vscode": {
     "languageId": "plaintext"
    }
   },
   "source": [
    "Essas estratégias exploram anomalias de mercado para gerar retornos acima do benchmark. Os fatores mais comuns incluem:"
   ]
  },
  {
   "cell_type": "markdown",
   "metadata": {
    "vscode": {
     "languageId": "plaintext"
    }
   },
   "source": [
    "#### **Value**"
   ]
  },
  {
   "cell_type": "markdown",
   "metadata": {
    "vscode": {
     "languageId": "plaintext"
    }
   },
   "source": [
    "Seleção de ativos subavaliados com base em múltiplos financeiros (P/E, P/B, EV/EBITDA)."
   ]
  },
  {
   "cell_type": "markdown",
   "metadata": {
    "vscode": {
     "languageId": "plaintext"
    }
   },
   "source": [
    "#### **Growth**"
   ]
  },
  {
   "cell_type": "markdown",
   "metadata": {
    "vscode": {
     "languageId": "plaintext"
    }
   },
   "source": [
    "Priorização de empresas com alto crescimento de receita e lucros."
   ]
  },
  {
   "cell_type": "markdown",
   "metadata": {
    "vscode": {
     "languageId": "plaintext"
    }
   },
   "source": [
    "#### **Momentum**"
   ]
  },
  {
   "cell_type": "markdown",
   "metadata": {
    "vscode": {
     "languageId": "plaintext"
    }
   },
   "source": [
    "Compra de ativos com desempenho recente positivo e venda dos com desempenho negativo."
   ]
  },
  {
   "cell_type": "markdown",
   "metadata": {
    "vscode": {
     "languageId": "plaintext"
    }
   },
   "source": [
    "#### **Low Volatility**"
   ]
  },
  {
   "cell_type": "markdown",
   "metadata": {
    "vscode": {
     "languageId": "plaintext"
    }
   },
   "source": [
    "Busca por ativos historicamente menos voláteis, que tendem a ter melhor relação risco-retorno."
   ]
  },
  {
   "cell_type": "markdown",
   "metadata": {
    "vscode": {
     "languageId": "plaintext"
    }
   },
   "source": [
    "### **2. Estratégias Estatísticas e de Market Making**"
   ]
  },
  {
   "cell_type": "markdown",
   "metadata": {
    "vscode": {
     "languageId": "plaintext"
    }
   },
   "source": [
    "Essas estratégias se aproveitam de padrões estatísticos ou da microestrutura do mercado para lucrar."
   ]
  },
  {
   "cell_type": "markdown",
   "metadata": {
    "vscode": {
     "languageId": "plaintext"
    }
   },
   "source": [
    "#### **Arbitragem Estatística**"
   ]
  },
  {
   "cell_type": "markdown",
   "metadata": {
    "vscode": {
     "languageId": "plaintext"
    }
   },
   "source": [
    "Exploração de relações estatísticas entre ativos (exemplo: pares de ações cointegradas)."
   ]
  },
  {
   "cell_type": "markdown",
   "metadata": {
    "vscode": {
     "languageId": "plaintext"
    }
   },
   "source": [
    "#### **Market Making**"
   ]
  },
  {
   "cell_type": "markdown",
   "metadata": {
    "vscode": {
     "languageId": "plaintext"
    }
   },
   "source": [
    "Provisão de liquidez no mercado por meio da colocação simultânea de ordens de compra e venda."
   ]
  },
  {
   "cell_type": "markdown",
   "metadata": {
    "vscode": {
     "languageId": "plaintext"
    }
   },
   "source": [
    "#### **Arbitragem Estatística Baseada em Machine Learning**"
   ]
  },
  {
   "cell_type": "markdown",
   "metadata": {
    "vscode": {
     "languageId": "plaintext"
    }
   },
   "source": [
    "Uso de técnicas avançadas (como machine learning) para detectar ineficiências de mercado."
   ]
  },
  {
   "cell_type": "markdown",
   "metadata": {
    "vscode": {
     "languageId": "plaintext"
    }
   },
   "source": [
    "### **3. Estratégias de Trading Algorítmico**"
   ]
  },
  {
   "cell_type": "markdown",
   "metadata": {
    "vscode": {
     "languageId": "plaintext"
    }
   },
   "source": [
    "Envolve o uso de algoritmos para executar operações de forma automatizada."
   ]
  },
  {
   "cell_type": "markdown",
   "metadata": {
    "vscode": {
     "languageId": "plaintext"
    }
   },
   "source": [
    "#### **High-Frequency Trading (HFT)**"
   ]
  },
  {
   "cell_type": "markdown",
   "metadata": {
    "vscode": {
     "languageId": "plaintext"
    }
   },
   "source": [
    "Execução de milhares de ordens em microssegundos para capturar pequenos spreads."
   ]
  },
  {
   "cell_type": "markdown",
   "metadata": {
    "vscode": {
     "languageId": "plaintext"
    }
   },
   "source": [
    "#### **Mean Reversion**"
   ]
  },
  {
   "cell_type": "markdown",
   "metadata": {
    "vscode": {
     "languageId": "plaintext"
    }
   },
   "source": [
    "Compra de ativos sobrevendidos e venda dos sobrecomprados, baseado na reversão à média."
   ]
  },
  {
   "cell_type": "markdown",
   "metadata": {
    "vscode": {
     "languageId": "plaintext"
    }
   },
   "source": [
    "#### **Trend Following**"
   ]
  },
  {
   "cell_type": "markdown",
   "metadata": {
    "vscode": {
     "languageId": "plaintext"
    }
   },
   "source": [
    "Identificação e aproveitamento de tendências de preço de ativos (exemplo: cruzamento de médias móveis)."
   ]
  },
  {
   "cell_type": "markdown",
   "metadata": {
    "vscode": {
     "languageId": "plaintext"
    }
   },
   "source": [
    "#### **Liquidity Provision**"
   ]
  },
  {
   "cell_type": "markdown",
   "metadata": {
    "vscode": {
     "languageId": "plaintext"
    }
   },
   "source": [
    "Exploração de diferenças de liquidez em diferentes momentos ou mercados."
   ]
  },
  {
   "cell_type": "markdown",
   "metadata": {
    "vscode": {
     "languageId": "plaintext"
    }
   },
   "source": [
    "### **4. Estratégias de Alocação e Otimização de Portfólio**"
   ]
  },
  {
   "cell_type": "markdown",
   "metadata": {
    "vscode": {
     "languageId": "plaintext"
    }
   },
   "source": [
    "Foca na distribuição eficiente de ativos para maximizar retornos ajustados ao risco."
   ]
  },
  {
   "cell_type": "markdown",
   "metadata": {
    "vscode": {
     "languageId": "plaintext"
    }
   },
   "source": [
    "#### **Markowitz e Fronteira Eficiente**"
   ]
  },
  {
   "cell_type": "markdown",
   "metadata": {
    "vscode": {
     "languageId": "plaintext"
    }
   },
   "source": [
    "Otimização baseada na relação risco-retorno."
   ]
  },
  {
   "cell_type": "markdown",
   "metadata": {
    "vscode": {
     "languageId": "plaintext"
    }
   },
   "source": [
    "#### **Risk Parity e Minimum Variance Portfolio** "
   ]
  },
  {
   "cell_type": "markdown",
   "metadata": {
    "vscode": {
     "languageId": "plaintext"
    }
   },
   "source": [
    "Distribuição de risco equilibrada entre ativos do portfólio."
   ]
  },
  {
   "cell_type": "markdown",
   "metadata": {
    "vscode": {
     "languageId": "plaintext"
    }
   },
   "source": [
    "#### **Teoria do Drawdown** "
   ]
  },
  {
   "cell_type": "markdown",
   "metadata": {
    "vscode": {
     "languageId": "plaintext"
    }
   },
   "source": [
    "Controle de perdas extremas usando métricas estatísticas."
   ]
  },
  {
   "cell_type": "markdown",
   "metadata": {
    "vscode": {
     "languageId": "plaintext"
    }
   },
   "source": [
    "#### **Alocação baseada em Machine Learning** "
   ]
  },
  {
   "cell_type": "markdown",
   "metadata": {
    "vscode": {
     "languageId": "plaintext"
    }
   },
   "source": [
    "Uso de aprendizado de máquina para otimizar a composição do portfólio."
   ]
  },
  {
   "cell_type": "markdown",
   "metadata": {
    "vscode": {
     "languageId": "plaintext"
    }
   },
   "source": [
    "### **5. Estratégia por Estrutura de Posicionamento**"
   ]
  },
  {
   "cell_type": "markdown",
   "metadata": {
    "vscode": {
     "languageId": "plaintext"
    }
   },
   "source": [
    "Além das categorias anteriores, estratégias podem ser classificadas pela forma como as posições são estruturadas:"
   ]
  },
  {
   "cell_type": "markdown",
   "metadata": {
    "vscode": {
     "languageId": "plaintext"
    }
   },
   "source": [
    "#### **Long Only** "
   ]
  },
  {
   "cell_type": "markdown",
   "metadata": {
    "vscode": {
     "languageId": "plaintext"
    }
   },
   "source": [
    "Compra de ativos com a expectativa de valorização."
   ]
  },
  {
   "cell_type": "markdown",
   "metadata": {
    "vscode": {
     "languageId": "plaintext"
    }
   },
   "source": [
    "#### **Long & Short** "
   ]
  },
  {
   "cell_type": "markdown",
   "metadata": {
    "vscode": {
     "languageId": "plaintext"
    }
   },
   "source": [
    "Combinação de posições compradas e vendidas para explorar ineficiências de mercado."
   ]
  },
  {
   "cell_type": "markdown",
   "metadata": {
    "vscode": {
     "languageId": "plaintext"
    }
   },
   "source": [
    "#### **Market Neutral** "
   ]
  },
  {
   "cell_type": "markdown",
   "metadata": {
    "vscode": {
     "languageId": "plaintext"
    }
   },
   "source": [
    "Exposição líquida próxima de zero para capturar alfa sem depender da tendência do mercado."
   ]
  },
  {
   "cell_type": "markdown",
   "metadata": {
    "vscode": {
     "languageId": "plaintext"
    }
   },
   "source": [
    "#### **Index Enhanced** "
   ]
  },
  {
   "cell_type": "markdown",
   "metadata": {
    "vscode": {
     "languageId": "plaintext"
    }
   },
   "source": [
    "Estratégia que busca superar um índice de referência sem se desviar excessivamente dele."
   ]
  },
  {
   "cell_type": "markdown",
   "metadata": {
    "vscode": {
     "languageId": "plaintext"
    }
   },
   "source": [
    "#### **Pairs Trading** "
   ]
  },
  {
   "cell_type": "markdown",
   "metadata": {
    "vscode": {
     "languageId": "plaintext"
    }
   },
   "source": [
    "Exploração da relação estatística entre dois ativos para identificar oportunidades de arbitragem."
   ]
  },
  {
   "cell_type": "markdown",
   "metadata": {
    "vscode": {
     "languageId": "plaintext"
    }
   },
   "source": [
    "#### **Multi-Strategy** "
   ]
  },
  {
   "cell_type": "markdown",
   "metadata": {
    "vscode": {
     "languageId": "plaintext"
    }
   },
   "source": [
    "Combinação de diferentes abordagens quantitativas para melhorar diversificação e robustez."
   ]
  },
  {
   "cell_type": "markdown",
   "metadata": {
    "vscode": {
     "languageId": "plaintext"
    }
   },
   "source": [
    "## **9.2 - Implementando algumas estratégias**"
   ]
  },
  {
   "cell_type": "markdown",
   "metadata": {},
   "source": [
    "### **Momentum → Estratégia de Momento Relativo (Relative Strength Strategy)**"
   ]
  },
  {
   "cell_type": "code",
   "execution_count": null,
   "metadata": {},
   "outputs": [],
   "source": []
  },
  {
   "cell_type": "markdown",
   "metadata": {},
   "source": [
    "### **Arbitragem Estatística → Pairs Trading (Cointegração entre Ativos)**"
   ]
  },
  {
   "cell_type": "code",
   "execution_count": null,
   "metadata": {},
   "outputs": [],
   "source": []
  },
  {
   "cell_type": "markdown",
   "metadata": {},
   "source": [
    "### **Mean Reversion → Estratégia de Bollinger Bands**"
   ]
  },
  {
   "cell_type": "code",
   "execution_count": null,
   "metadata": {},
   "outputs": [],
   "source": []
  },
  {
   "cell_type": "markdown",
   "metadata": {
    "vscode": {
     "languageId": "plaintext"
    }
   },
   "source": [
    "### **Portfolio Optimization → Minimum Variance Portfolio (MVP)**"
   ]
  },
  {
   "cell_type": "code",
   "execution_count": null,
   "metadata": {},
   "outputs": [],
   "source": []
  },
  {
   "cell_type": "markdown",
   "metadata": {
    "vscode": {
     "languageId": "plaintext"
    }
   },
   "source": [
    "### **Estratégia de Long & Short → Pairs Trading**"
   ]
  },
  {
   "cell_type": "code",
   "execution_count": null,
   "metadata": {},
   "outputs": [],
   "source": []
  },
  {
   "cell_type": "markdown",
   "metadata": {},
   "source": [
    "# 🦅 **10 - Derivativos**"
   ]
  },
  {
   "cell_type": "code",
   "execution_count": null,
   "metadata": {},
   "outputs": [],
   "source": []
  },
  {
   "cell_type": "markdown",
   "metadata": {},
   "source": [
    "## **10.1 - Fundamentos dos derivativos**"
   ]
  },
  {
   "cell_type": "markdown",
   "metadata": {},
   "source": [
    "### **Papel dos Derivativos na Gestão de Risco e na Especulação**"
   ]
  },
  {
   "cell_type": "code",
   "execution_count": null,
   "metadata": {},
   "outputs": [],
   "source": []
  },
  {
   "cell_type": "markdown",
   "metadata": {},
   "source": [
    "### **O que são Derivativos?**"
   ]
  },
  {
   "cell_type": "code",
   "execution_count": null,
   "metadata": {},
   "outputs": [],
   "source": []
  },
  {
   "cell_type": "markdown",
   "metadata": {},
   "source": [
    "### **Opções**"
   ]
  },
  {
   "cell_type": "markdown",
   "metadata": {},
   "source": [
    "#### **Vanilla (simples)**"
   ]
  },
  {
   "cell_type": "code",
   "execution_count": null,
   "metadata": {},
   "outputs": [],
   "source": []
  },
  {
   "cell_type": "markdown",
   "metadata": {},
   "source": [
    "#### **Exóticas (barrier, asian, lookback, etc.)**"
   ]
  },
  {
   "cell_type": "code",
   "execution_count": null,
   "metadata": {},
   "outputs": [],
   "source": []
  },
  {
   "cell_type": "markdown",
   "metadata": {},
   "source": [
    "### **Futuros e Forwards**"
   ]
  },
  {
   "cell_type": "markdown",
   "metadata": {},
   "source": [
    "#### **Contratos padronizados negociados em bolsa (futuros)**"
   ]
  },
  {
   "cell_type": "code",
   "execution_count": null,
   "metadata": {},
   "outputs": [],
   "source": []
  },
  {
   "cell_type": "markdown",
   "metadata": {},
   "source": [
    "#### **Contratos personalizados negociados no mercado de balcão (forwards)**"
   ]
  },
  {
   "cell_type": "code",
   "execution_count": null,
   "metadata": {},
   "outputs": [],
   "source": []
  },
  {
   "cell_type": "markdown",
   "metadata": {},
   "source": [
    "### **Swaps e Contratos de Derivativos de Crédito (CDS)**"
   ]
  },
  {
   "cell_type": "markdown",
   "metadata": {},
   "source": [
    "#### **Swaps de taxa de juros, câmbio e commodities**"
   ]
  },
  {
   "cell_type": "code",
   "execution_count": null,
   "metadata": {},
   "outputs": [],
   "source": []
  },
  {
   "cell_type": "markdown",
   "metadata": {},
   "source": [
    "#### **Credit Default Swaps (CDS), utilizados para gestão de risco de crédito**"
   ]
  },
  {
   "cell_type": "code",
   "execution_count": null,
   "metadata": {},
   "outputs": [],
   "source": []
  },
  {
   "cell_type": "markdown",
   "metadata": {},
   "source": [
    "## **10.2 - Precificação de Opções e Modelos Matemáticos**"
   ]
  },
  {
   "cell_type": "markdown",
   "metadata": {},
   "source": [
    "### **Modelo de Black-Scholes**"
   ]
  },
  {
   "cell_type": "markdown",
   "metadata": {},
   "source": [
    "#### **Derivação e Hipóteses**"
   ]
  },
  {
   "cell_type": "markdown",
   "metadata": {},
   "source": [
    "  - Mercado sem fricções (sem custos de transação ou restrições)\n",
    "  - Difusão lognormal dos preços\n",
    "  - Volatilidade constante\n",
    "  - Sem arbitragem"
   ]
  },
  {
   "cell_type": "markdown",
   "metadata": {},
   "source": [
    "#### **Interpretação dos \"Greeks\"**"
   ]
  },
  {
   "cell_type": "markdown",
   "metadata": {},
   "source": [
    "- **Delta (Δ):** Sensibilidade ao preço do ativo subjacente\n",
    "- **Gamma (Γ):** Sensibilidade da Delta\n",
    "- **Vega (ν):** Sensibilidade à volatilidade\n",
    "- **Theta (Θ):** Decaimento temporal da opção\n",
    "- **Rho (ρ):** Sensibilidade à taxa de juros"
   ]
  },
  {
   "cell_type": "markdown",
   "metadata": {},
   "source": [
    "#### **Limitações e Ajustes**"
   ]
  },
  {
   "cell_type": "markdown",
   "metadata": {},
   "source": [
    "- Falha em capturar mudanças estocásticas na volatilidade\n",
    "- Aplicação limitada para opções americanas"
   ]
  },
  {
   "cell_type": "markdown",
   "metadata": {},
   "source": [
    "### **Árvores Binomiais e Métodos Numéricos**"
   ]
  },
  {
   "cell_type": "markdown",
   "metadata": {},
   "source": [
    "A abordagem binomial oferece uma forma discreta de modelar preços de opções e convergir para Black-Scholes no limite:"
   ]
  },
  {
   "cell_type": "markdown",
   "metadata": {},
   "source": [
    "#### **Construção do modelo binomial para opções europeias e americanas**"
   ]
  },
  {
   "cell_type": "code",
   "execution_count": null,
   "metadata": {},
   "outputs": [],
   "source": []
  },
  {
   "cell_type": "markdown",
   "metadata": {},
   "source": [
    "#### **Métodos numéricos alternativos:**"
   ]
  },
  {
   "cell_type": "markdown",
   "metadata": {},
   "source": [
    "##### **Diferenças Finitas**"
   ]
  },
  {
   "cell_type": "code",
   "execution_count": null,
   "metadata": {},
   "outputs": [],
   "source": []
  },
  {
   "cell_type": "markdown",
   "metadata": {},
   "source": [
    "##### **Simulação de Monte Carlo**"
   ]
  },
  {
   "cell_type": "code",
   "execution_count": null,
   "metadata": {},
   "outputs": [],
   "source": []
  },
  {
   "cell_type": "markdown",
   "metadata": {},
   "source": [
    "### **Modelos de Volatilidade**"
   ]
  },
  {
   "cell_type": "markdown",
   "metadata": {},
   "source": [
    "Além do modelo Black-Scholes, outras abordagens lidam melhor com volatilidade variável:"
   ]
  },
  {
   "cell_type": "markdown",
   "metadata": {},
   "source": [
    "#### **Volatilidade implícita e superfícies de volatilidade**"
   ]
  },
  {
   "cell_type": "code",
   "execution_count": null,
   "metadata": {},
   "outputs": [],
   "source": []
  },
  {
   "cell_type": "markdown",
   "metadata": {},
   "source": [
    "#### **Modelos de volatilidade local (Dupire)**"
   ]
  },
  {
   "cell_type": "code",
   "execution_count": null,
   "metadata": {},
   "outputs": [],
   "source": []
  },
  {
   "cell_type": "markdown",
   "metadata": {},
   "source": [
    "#### **Modelos de volatilidade estocástica**"
   ]
  },
  {
   "cell_type": "markdown",
   "metadata": {},
   "source": [
    "##### **Modelo de Heston**"
   ]
  },
  {
   "cell_type": "code",
   "execution_count": null,
   "metadata": {},
   "outputs": [],
   "source": []
  },
  {
   "cell_type": "markdown",
   "metadata": {},
   "source": [
    "##### **Modelo SABR (Stochastic Alpha, Beta, Rho)**"
   ]
  },
  {
   "cell_type": "code",
   "execution_count": null,
   "metadata": {},
   "outputs": [],
   "source": []
  },
  {
   "cell_type": "markdown",
   "metadata": {},
   "source": [
    "#### **Modelos com saltos e processos de Lévy**"
   ]
  },
  {
   "cell_type": "markdown",
   "metadata": {},
   "source": [
    "##### **Modelo de Merton com saltos**"
   ]
  },
  {
   "cell_type": "code",
   "execution_count": null,
   "metadata": {},
   "outputs": [],
   "source": []
  },
  {
   "cell_type": "markdown",
   "metadata": {},
   "source": [
    "##### **Processos de xBates, combinando volatilidade estocástica e saltos**"
   ]
  },
  {
   "cell_type": "code",
   "execution_count": null,
   "metadata": {},
   "outputs": [],
   "source": []
  },
  {
   "cell_type": "markdown",
   "metadata": {},
   "source": [
    "## **10.3 - Estratégias de Negociação com Opções**"
   ]
  },
  {
   "cell_type": "markdown",
   "metadata": {},
   "source": [
    "### **Estratégias Básicas**"
   ]
  },
  {
   "cell_type": "markdown",
   "metadata": {},
   "source": [
    "#### **Compra/Venda de Calls e Puts**"
   ]
  },
  {
   "cell_type": "code",
   "execution_count": null,
   "metadata": {},
   "outputs": [],
   "source": []
  },
  {
   "cell_type": "markdown",
   "metadata": {},
   "source": [
    "#### **Protective Puts e Covered Calls**  "
   ]
  },
  {
   "cell_type": "code",
   "execution_count": null,
   "metadata": {},
   "outputs": [],
   "source": []
  },
  {
   "cell_type": "markdown",
   "metadata": {},
   "source": [
    "##### **Protective Put: Protege contra quedas no ativo subjacente**"
   ]
  },
  {
   "cell_type": "code",
   "execution_count": null,
   "metadata": {},
   "outputs": [],
   "source": []
  },
  {
   "cell_type": "markdown",
   "metadata": {},
   "source": [
    "##### **Covered Call: Geração de renda vendendo calls cobertas**"
   ]
  },
  {
   "cell_type": "code",
   "execution_count": null,
   "metadata": {},
   "outputs": [],
   "source": []
  },
  {
   "cell_type": "markdown",
   "metadata": {},
   "source": [
    "### **Estratégias Estruturadas**"
   ]
  },
  {
   "cell_type": "markdown",
   "metadata": {},
   "source": [
    "#### **Spreads**"
   ]
  },
  {
   "cell_type": "markdown",
   "metadata": {},
   "source": [
    "##### **Vertical:** Diferença de strikes"
   ]
  },
  {
   "cell_type": "code",
   "execution_count": null,
   "metadata": {},
   "outputs": [],
   "source": []
  },
  {
   "cell_type": "markdown",
   "metadata": {},
   "source": [
    "##### **Calendar:** Diferença de vencimentos"
   ]
  },
  {
   "cell_type": "code",
   "execution_count": null,
   "metadata": {},
   "outputs": [],
   "source": []
  },
  {
   "cell_type": "markdown",
   "metadata": {},
   "source": [
    "##### **Diagonal:** Combinação de ambos"
   ]
  },
  {
   "cell_type": "code",
   "execution_count": null,
   "metadata": {},
   "outputs": [],
   "source": []
  },
  {
   "cell_type": "markdown",
   "metadata": {},
   "source": [
    "#### **Straddles, Strangles e Butterflies**"
   ]
  },
  {
   "cell_type": "code",
   "execution_count": null,
   "metadata": {},
   "outputs": [],
   "source": []
  },
  {
   "cell_type": "markdown",
   "metadata": {},
   "source": [
    "#### **Iron Condor e estratégias de volatilidade**"
   ]
  },
  {
   "cell_type": "code",
   "execution_count": null,
   "metadata": {},
   "outputs": [],
   "source": []
  },
  {
   "cell_type": "markdown",
   "metadata": {},
   "source": [
    "### **Hedging com Derivativos**"
   ]
  },
  {
   "cell_type": "markdown",
   "metadata": {},
   "source": [
    "#### **Delta e Gamma Hedging**"
   ]
  },
  {
   "cell_type": "code",
   "execution_count": null,
   "metadata": {},
   "outputs": [],
   "source": []
  },
  {
   "cell_type": "markdown",
   "metadata": {},
   "source": [
    "#### **Volatility Trading**"
   ]
  },
  {
   "cell_type": "markdown",
   "metadata": {},
   "source": [
    "##### **Estratégias como \"Vega Neutral\" para negociar volatilidade implícita**"
   ]
  },
  {
   "cell_type": "code",
   "execution_count": null,
   "metadata": {},
   "outputs": [],
   "source": []
  }
 ],
 "metadata": {
  "kernelspec": {
   "display_name": "Python 3",
   "language": "python",
   "name": "python3"
  },
  "language_info": {
   "codemirror_mode": {
    "name": "ipython",
    "version": 3
   },
   "file_extension": ".py",
   "mimetype": "text/x-python",
   "name": "python",
   "nbconvert_exporter": "python",
   "pygments_lexer": "ipython3",
   "version": "3.10.12"
  }
 },
 "nbformat": 4,
 "nbformat_minor": 2
}
